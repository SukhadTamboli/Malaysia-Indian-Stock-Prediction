{
  "cells": [
    {
      "cell_type": "markdown",
      "metadata": {
        "id": "view-in-github",
        "colab_type": "text"
      },
      "source": [
        "<a href=\"https://colab.research.google.com/github/NikhileshSarangpure/Malaysian-Indian-Export-price-analysis-and-forecasting-using-Neural-Network/blob/main/Hindustan_Petroleum_Corporation_Limited.ipynb\" target=\"_parent\"><img src=\"https://colab.research.google.com/assets/colab-badge.svg\" alt=\"Open In Colab\"/></a>"
      ]
    },
    {
      "cell_type": "code",
      "execution_count": null,
      "metadata": {
        "id": "T0mshms2LxoB"
      },
      "outputs": [],
      "source": [
        "import pandas as pd\n",
        "import numpy as np\n",
        "import seaborn as sns\n",
        "import matplotlib.pyplot as plt"
      ]
    },
    {
      "cell_type": "code",
      "execution_count": null,
      "metadata": {
        "colab": {
          "base_uri": "https://localhost:8080/",
          "height": 508
        },
        "id": "BbsN5dxsLygR",
        "outputId": "b8f9d8e5-051e-4518-ae2f-c9b80a7b013f"
      },
      "outputs": [
        {
          "output_type": "execute_result",
          "data": {
            "text/plain": [
              "         Date        Open        High         Low       Close   Adj Close  \\\n",
              "0  01-01-2019  253.600006  258.350006  252.500000  256.700012  197.191910   \n",
              "1  02-01-2019  255.850006  258.500000  244.699997  256.549988  197.076660   \n",
              "2  03-01-2019  253.300003  253.899994  247.199997  248.300003  190.739182   \n",
              "3  04-01-2019  247.000000  251.250000  246.350006  248.199997  190.662369   \n",
              "4  07-01-2019  249.000000  251.899994  248.149994  249.800003  191.891449   \n",
              "\n",
              "     Volume           GDP  Balance of Trade  Population  ...  Total deaths  \\\n",
              "0   2829660  3.266010e+13      -14730000000  1366417754  ...             0   \n",
              "1  10666940  3.266010e+13      -14730000000  1366417754  ...             0   \n",
              "2   7019279  3.266010e+13      -14730000000  1366417754  ...             0   \n",
              "3   5576677  3.266010e+13      -14730000000  1366417754  ...             0   \n",
              "4   2274016  3.266010e+13      -14730000000  1366417754  ...             0   \n",
              "\n",
              "   People vaccinated  Uncertainty index   INR/USD  Unemployment rate  \\\n",
              "0                0.0           0.187243  0.014345             0.0780   \n",
              "1                0.0           0.187243  0.014345             0.0780   \n",
              "2                0.0           0.187243  0.014294             0.0780   \n",
              "3                0.0           0.187243  0.014225             0.0780   \n",
              "4                0.0           0.187243  0.014383             0.0779   \n",
              "\n",
              "   Inflation rate  interest rate     NIFTY 50  WTI Crude Oil  Brent Crude Oil  \n",
              "0          0.0199          0.065  10792.50000          46.31            54.06  \n",
              "1          0.0199          0.065  10672.25000          46.92            53.23  \n",
              "2          0.0199          0.065  10727.34961          47.76            55.64  \n",
              "3          0.0199          0.065  10771.79981          48.27            57.10  \n",
              "4          0.0199          0.065  10802.15039          49.58            56.91  \n",
              "\n",
              "[5 rows x 21 columns]"
            ],
            "text/html": [
              "\n",
              "  <div id=\"df-dcfa2455-ce41-4fba-893a-c2a575162727\">\n",
              "    <div class=\"colab-df-container\">\n",
              "      <div>\n",
              "<style scoped>\n",
              "    .dataframe tbody tr th:only-of-type {\n",
              "        vertical-align: middle;\n",
              "    }\n",
              "\n",
              "    .dataframe tbody tr th {\n",
              "        vertical-align: top;\n",
              "    }\n",
              "\n",
              "    .dataframe thead th {\n",
              "        text-align: right;\n",
              "    }\n",
              "</style>\n",
              "<table border=\"1\" class=\"dataframe\">\n",
              "  <thead>\n",
              "    <tr style=\"text-align: right;\">\n",
              "      <th></th>\n",
              "      <th>Date</th>\n",
              "      <th>Open</th>\n",
              "      <th>High</th>\n",
              "      <th>Low</th>\n",
              "      <th>Close</th>\n",
              "      <th>Adj Close</th>\n",
              "      <th>Volume</th>\n",
              "      <th>GDP</th>\n",
              "      <th>Balance of Trade</th>\n",
              "      <th>Population</th>\n",
              "      <th>...</th>\n",
              "      <th>Total deaths</th>\n",
              "      <th>People vaccinated</th>\n",
              "      <th>Uncertainty index</th>\n",
              "      <th>INR/USD</th>\n",
              "      <th>Unemployment rate</th>\n",
              "      <th>Inflation rate</th>\n",
              "      <th>interest rate</th>\n",
              "      <th>NIFTY 50</th>\n",
              "      <th>WTI Crude Oil</th>\n",
              "      <th>Brent Crude Oil</th>\n",
              "    </tr>\n",
              "  </thead>\n",
              "  <tbody>\n",
              "    <tr>\n",
              "      <th>0</th>\n",
              "      <td>01-01-2019</td>\n",
              "      <td>253.600006</td>\n",
              "      <td>258.350006</td>\n",
              "      <td>252.500000</td>\n",
              "      <td>256.700012</td>\n",
              "      <td>197.191910</td>\n",
              "      <td>2829660</td>\n",
              "      <td>3.266010e+13</td>\n",
              "      <td>-14730000000</td>\n",
              "      <td>1366417754</td>\n",
              "      <td>...</td>\n",
              "      <td>0</td>\n",
              "      <td>0.0</td>\n",
              "      <td>0.187243</td>\n",
              "      <td>0.014345</td>\n",
              "      <td>0.0780</td>\n",
              "      <td>0.0199</td>\n",
              "      <td>0.065</td>\n",
              "      <td>10792.50000</td>\n",
              "      <td>46.31</td>\n",
              "      <td>54.06</td>\n",
              "    </tr>\n",
              "    <tr>\n",
              "      <th>1</th>\n",
              "      <td>02-01-2019</td>\n",
              "      <td>255.850006</td>\n",
              "      <td>258.500000</td>\n",
              "      <td>244.699997</td>\n",
              "      <td>256.549988</td>\n",
              "      <td>197.076660</td>\n",
              "      <td>10666940</td>\n",
              "      <td>3.266010e+13</td>\n",
              "      <td>-14730000000</td>\n",
              "      <td>1366417754</td>\n",
              "      <td>...</td>\n",
              "      <td>0</td>\n",
              "      <td>0.0</td>\n",
              "      <td>0.187243</td>\n",
              "      <td>0.014345</td>\n",
              "      <td>0.0780</td>\n",
              "      <td>0.0199</td>\n",
              "      <td>0.065</td>\n",
              "      <td>10672.25000</td>\n",
              "      <td>46.92</td>\n",
              "      <td>53.23</td>\n",
              "    </tr>\n",
              "    <tr>\n",
              "      <th>2</th>\n",
              "      <td>03-01-2019</td>\n",
              "      <td>253.300003</td>\n",
              "      <td>253.899994</td>\n",
              "      <td>247.199997</td>\n",
              "      <td>248.300003</td>\n",
              "      <td>190.739182</td>\n",
              "      <td>7019279</td>\n",
              "      <td>3.266010e+13</td>\n",
              "      <td>-14730000000</td>\n",
              "      <td>1366417754</td>\n",
              "      <td>...</td>\n",
              "      <td>0</td>\n",
              "      <td>0.0</td>\n",
              "      <td>0.187243</td>\n",
              "      <td>0.014294</td>\n",
              "      <td>0.0780</td>\n",
              "      <td>0.0199</td>\n",
              "      <td>0.065</td>\n",
              "      <td>10727.34961</td>\n",
              "      <td>47.76</td>\n",
              "      <td>55.64</td>\n",
              "    </tr>\n",
              "    <tr>\n",
              "      <th>3</th>\n",
              "      <td>04-01-2019</td>\n",
              "      <td>247.000000</td>\n",
              "      <td>251.250000</td>\n",
              "      <td>246.350006</td>\n",
              "      <td>248.199997</td>\n",
              "      <td>190.662369</td>\n",
              "      <td>5576677</td>\n",
              "      <td>3.266010e+13</td>\n",
              "      <td>-14730000000</td>\n",
              "      <td>1366417754</td>\n",
              "      <td>...</td>\n",
              "      <td>0</td>\n",
              "      <td>0.0</td>\n",
              "      <td>0.187243</td>\n",
              "      <td>0.014225</td>\n",
              "      <td>0.0780</td>\n",
              "      <td>0.0199</td>\n",
              "      <td>0.065</td>\n",
              "      <td>10771.79981</td>\n",
              "      <td>48.27</td>\n",
              "      <td>57.10</td>\n",
              "    </tr>\n",
              "    <tr>\n",
              "      <th>4</th>\n",
              "      <td>07-01-2019</td>\n",
              "      <td>249.000000</td>\n",
              "      <td>251.899994</td>\n",
              "      <td>248.149994</td>\n",
              "      <td>249.800003</td>\n",
              "      <td>191.891449</td>\n",
              "      <td>2274016</td>\n",
              "      <td>3.266010e+13</td>\n",
              "      <td>-14730000000</td>\n",
              "      <td>1366417754</td>\n",
              "      <td>...</td>\n",
              "      <td>0</td>\n",
              "      <td>0.0</td>\n",
              "      <td>0.187243</td>\n",
              "      <td>0.014383</td>\n",
              "      <td>0.0779</td>\n",
              "      <td>0.0199</td>\n",
              "      <td>0.065</td>\n",
              "      <td>10802.15039</td>\n",
              "      <td>49.58</td>\n",
              "      <td>56.91</td>\n",
              "    </tr>\n",
              "  </tbody>\n",
              "</table>\n",
              "<p>5 rows × 21 columns</p>\n",
              "</div>\n",
              "      <button class=\"colab-df-convert\" onclick=\"convertToInteractive('df-dcfa2455-ce41-4fba-893a-c2a575162727')\"\n",
              "              title=\"Convert this dataframe to an interactive table.\"\n",
              "              style=\"display:none;\">\n",
              "        \n",
              "  <svg xmlns=\"http://www.w3.org/2000/svg\" height=\"24px\"viewBox=\"0 0 24 24\"\n",
              "       width=\"24px\">\n",
              "    <path d=\"M0 0h24v24H0V0z\" fill=\"none\"/>\n",
              "    <path d=\"M18.56 5.44l.94 2.06.94-2.06 2.06-.94-2.06-.94-.94-2.06-.94 2.06-2.06.94zm-11 1L8.5 8.5l.94-2.06 2.06-.94-2.06-.94L8.5 2.5l-.94 2.06-2.06.94zm10 10l.94 2.06.94-2.06 2.06-.94-2.06-.94-.94-2.06-.94 2.06-2.06.94z\"/><path d=\"M17.41 7.96l-1.37-1.37c-.4-.4-.92-.59-1.43-.59-.52 0-1.04.2-1.43.59L10.3 9.45l-7.72 7.72c-.78.78-.78 2.05 0 2.83L4 21.41c.39.39.9.59 1.41.59.51 0 1.02-.2 1.41-.59l7.78-7.78 2.81-2.81c.8-.78.8-2.07 0-2.86zM5.41 20L4 18.59l7.72-7.72 1.47 1.35L5.41 20z\"/>\n",
              "  </svg>\n",
              "      </button>\n",
              "      \n",
              "  <style>\n",
              "    .colab-df-container {\n",
              "      display:flex;\n",
              "      flex-wrap:wrap;\n",
              "      gap: 12px;\n",
              "    }\n",
              "\n",
              "    .colab-df-convert {\n",
              "      background-color: #E8F0FE;\n",
              "      border: none;\n",
              "      border-radius: 50%;\n",
              "      cursor: pointer;\n",
              "      display: none;\n",
              "      fill: #1967D2;\n",
              "      height: 32px;\n",
              "      padding: 0 0 0 0;\n",
              "      width: 32px;\n",
              "    }\n",
              "\n",
              "    .colab-df-convert:hover {\n",
              "      background-color: #E2EBFA;\n",
              "      box-shadow: 0px 1px 2px rgba(60, 64, 67, 0.3), 0px 1px 3px 1px rgba(60, 64, 67, 0.15);\n",
              "      fill: #174EA6;\n",
              "    }\n",
              "\n",
              "    [theme=dark] .colab-df-convert {\n",
              "      background-color: #3B4455;\n",
              "      fill: #D2E3FC;\n",
              "    }\n",
              "\n",
              "    [theme=dark] .colab-df-convert:hover {\n",
              "      background-color: #434B5C;\n",
              "      box-shadow: 0px 1px 3px 1px rgba(0, 0, 0, 0.15);\n",
              "      filter: drop-shadow(0px 1px 2px rgba(0, 0, 0, 0.3));\n",
              "      fill: #FFFFFF;\n",
              "    }\n",
              "  </style>\n",
              "\n",
              "      <script>\n",
              "        const buttonEl =\n",
              "          document.querySelector('#df-dcfa2455-ce41-4fba-893a-c2a575162727 button.colab-df-convert');\n",
              "        buttonEl.style.display =\n",
              "          google.colab.kernel.accessAllowed ? 'block' : 'none';\n",
              "\n",
              "        async function convertToInteractive(key) {\n",
              "          const element = document.querySelector('#df-dcfa2455-ce41-4fba-893a-c2a575162727');\n",
              "          const dataTable =\n",
              "            await google.colab.kernel.invokeFunction('convertToInteractive',\n",
              "                                                     [key], {});\n",
              "          if (!dataTable) return;\n",
              "\n",
              "          const docLinkHtml = 'Like what you see? Visit the ' +\n",
              "            '<a target=\"_blank\" href=https://colab.research.google.com/notebooks/data_table.ipynb>data table notebook</a>'\n",
              "            + ' to learn more about interactive tables.';\n",
              "          element.innerHTML = '';\n",
              "          dataTable['output_type'] = 'display_data';\n",
              "          await google.colab.output.renderOutput(dataTable, element);\n",
              "          const docLink = document.createElement('div');\n",
              "          docLink.innerHTML = docLinkHtml;\n",
              "          element.appendChild(docLink);\n",
              "        }\n",
              "      </script>\n",
              "    </div>\n",
              "  </div>\n",
              "  "
            ]
          },
          "metadata": {},
          "execution_count": 3
        }
      ],
      "source": [
        "df = pd.read_csv(\"/content/HPCL.csv\")\n",
        "df.head()"
      ]
    },
    {
      "cell_type": "code",
      "execution_count": null,
      "metadata": {
        "colab": {
          "base_uri": "https://localhost:8080/"
        },
        "id": "9Bz0gLoYL104",
        "outputId": "6eefacc8-c9b3-45d8-abb9-2f90e5b26acb"
      },
      "outputs": [
        {
          "output_type": "execute_result",
          "data": {
            "text/plain": [
              "(741, 21)"
            ]
          },
          "metadata": {},
          "execution_count": 5
        }
      ],
      "source": [
        "df.shape"
      ]
    },
    {
      "cell_type": "code",
      "execution_count": null,
      "metadata": {
        "colab": {
          "base_uri": "https://localhost:8080/"
        },
        "id": "3gOI1DevL4EH",
        "outputId": "005d1576-8a46-4f5f-eef6-1184c9d7fd26"
      },
      "outputs": [
        {
          "output_type": "execute_result",
          "data": {
            "text/plain": [
              "Date                  0\n",
              "Open                  0\n",
              "High                  0\n",
              "Low                   0\n",
              "Close                 0\n",
              "Adj Close             0\n",
              "Volume                0\n",
              "GDP                   0\n",
              "Balance of Trade      0\n",
              "Population            0\n",
              "Total cases           0\n",
              "Total deaths          0\n",
              "People vaccinated     6\n",
              "Uncertainty index     0\n",
              "INR/USD               3\n",
              "Unemployment rate     0\n",
              "Inflation rate        0\n",
              "interest rate         0\n",
              "NIFTY 50              3\n",
              "WTI Crude Oil        26\n",
              "Brent Crude Oil      15\n",
              "dtype: int64"
            ]
          },
          "metadata": {},
          "execution_count": 6
        }
      ],
      "source": [
        "df.isnull().sum()"
      ]
    },
    {
      "cell_type": "code",
      "execution_count": null,
      "metadata": {
        "colab": {
          "base_uri": "https://localhost:8080/",
          "height": 418
        },
        "id": "BtgxiUC5L5cX",
        "outputId": "bbd55679-f8a7-486a-97b9-3bb4f610f9b5"
      },
      "outputs": [
        {
          "output_type": "display_data",
          "data": {
            "text/plain": [
              "Date                 0\n",
              "Open                 0\n",
              "High                 0\n",
              "Low                  0\n",
              "Close                0\n",
              "Adj Close            0\n",
              "Volume               0\n",
              "GDP                  0\n",
              "Balance of Trade     0\n",
              "Population           0\n",
              "Total cases          0\n",
              "Total deaths         0\n",
              "People vaccinated    0\n",
              "Uncertainty index    0\n",
              "INR/USD              0\n",
              "Unemployment rate    0\n",
              "Inflation rate       0\n",
              "interest rate        0\n",
              "NIFTY 50             0\n",
              "WTI Crude Oil        0\n",
              "Brent Crude Oil      0\n",
              "dtype: int64"
            ]
          },
          "metadata": {}
        }
      ],
      "source": [
        "df = df.interpolate(method = 'spline', order = 3)\n",
        "display(df.isna().sum())"
      ]
    },
    {
      "cell_type": "code",
      "execution_count": null,
      "metadata": {
        "colab": {
          "base_uri": "https://localhost:8080/",
          "height": 513
        },
        "id": "7owv2nFhL6zP",
        "outputId": "c469be27-2ff8-4eef-c776-df65e1ad0580"
      },
      "outputs": [
        {
          "output_type": "display_data",
          "data": {
            "text/plain": [
              "<Figure size 1440x576 with 1 Axes>"
            ],
            "image/png": "[encoded data removed]"
          },
          "metadata": {
            "needs_background": "light"
          }
        }
      ],
      "source": [
        "fig,ax = plt.subplots(figsize=(20,8))\n",
        "ax.plot(df['Date'],df['Close'],color='Red')\n",
        "ax.xaxis.set_major_locator(plt.MaxNLocator(15))\n",
        "ax.set_xlabel('Date',fontsize='11')\n",
        "ax.set_ylabel('Price',fontsize='11')\n",
        "plt.title('Stock Prices')\n",
        "plt.grid()\n",
        "plt.show()"
      ]
    },
    {
      "cell_type": "code",
      "execution_count": null,
      "metadata": {
        "colab": {
          "base_uri": "https://localhost:8080/",
          "height": 513
        },
        "id": "LXqRujEtL8M_",
        "outputId": "bc0fdf84-f8ff-4424-e931-150165c81e76"
      },
      "outputs": [
        {
          "output_type": "display_data",
          "data": {
            "text/plain": [
              "<Figure size 1440x576 with 1 Axes>"
            ],
            "image/png": "[encoded data removed]"
          },
          "metadata": {
            "needs_background": "light"
          }
        }
      ],
      "source": [
        "fig,ax = plt.subplots(figsize=(20,8))\n",
        "ax.plot(df['Date'],df['Total cases'],color='Blue')\n",
        "ax.xaxis.set_major_locator(plt.MaxNLocator(15))\n",
        "ax.set_xlabel('Date',fontsize='11')\n",
        "ax.set_ylabel('Total cases',fontsize='11')\n",
        "plt.title('Covid Cases')\n",
        "plt.grid()\n",
        "plt.show()"
      ]
    },
    {
      "cell_type": "code",
      "execution_count": null,
      "metadata": {
        "colab": {
          "base_uri": "https://localhost:8080/",
          "height": 513
        },
        "id": "gyDAZ01XL-T_",
        "outputId": "64f90347-ba8a-4311-a33b-5baafee6cfe1"
      },
      "outputs": [
        {
          "output_type": "display_data",
          "data": {
            "text/plain": [
              "<Figure size 1440x576 with 1 Axes>"
            ],
            "image/png": "[encoded data removed]"
          },
          "metadata": {
            "needs_background": "light"
          }
        }
      ],
      "source": [
        "fig,ax = plt.subplots(figsize=(20,8))\n",
        "ax.plot(df['Total cases'],df['Close'],color='green')\n",
        "ax.xaxis.set_major_locator(plt.MaxNLocator(15))\n",
        "ax.set_xlabel('Total cases',fontsize='11')\n",
        "ax.set_ylabel('Close',fontsize='11')\n",
        "plt.title('Stock Prices vs Covid Cases')\n",
        "plt.grid()\n",
        "plt.show()"
      ]
    },
    {
      "cell_type": "code",
      "execution_count": null,
      "metadata": {
        "colab": {
          "base_uri": "https://localhost:8080/",
          "height": 577
        },
        "id": "5GqMwNmyL_mw",
        "outputId": "38f1ae9f-cba7-4f5b-a977-bb5f3664c524"
      },
      "outputs": [
        {
          "output_type": "display_data",
          "data": {
            "text/plain": [
              "<Figure size 1080x576 with 2 Axes>"
            ],
            "image/png": "[encoded data removed]"
          },
          "metadata": {
            "needs_background": "light"
          }
        }
      ],
      "source": [
        "plt.figure(figsize=(15,8))\n",
        "sns.heatmap(df.corr(), annot = True)\n",
        "plt.show()"
      ]
    },
    {
      "cell_type": "code",
      "execution_count": null,
      "metadata": {
        "id": "tWE7K8gXMBIP"
      },
      "outputs": [],
      "source": [
        "df['Date'] = pd.to_datetime(df['Date'])\n",
        "df.set_index('Date',inplace=True)"
      ]
    },
    {
      "cell_type": "code",
      "execution_count": null,
      "metadata": {
        "colab": {
          "base_uri": "https://localhost:8080/"
        },
        "id": "VHOZtrJcMCnH",
        "outputId": "4d46d134-247c-4cdc-c9af-a84ba0c58a26"
      },
      "outputs": [
        {
          "output_type": "stream",
          "name": "stdout",
          "text": [
            "Looking in indexes: https://pypi.org/simple, https://us-python.pkg.dev/colab-wheels/public/simple/\n",
            "Requirement already satisfied: Boruta in /usr/local/lib/python3.7/dist-packages (0.3)\n",
            "Requirement already satisfied: numpy>=1.10.4 in /usr/local/lib/python3.7/dist-packages (from Boruta) (1.21.6)\n",
            "Requirement already satisfied: scipy>=0.17.0 in /usr/local/lib/python3.7/dist-packages (from Boruta) (1.7.3)\n",
            "Requirement already satisfied: scikit-learn>=0.17.1 in /usr/local/lib/python3.7/dist-packages (from Boruta) (1.0.2)\n",
            "Requirement already satisfied: joblib>=0.11 in /usr/local/lib/python3.7/dist-packages (from scikit-learn>=0.17.1->Boruta) (1.1.0)\n",
            "Requirement already satisfied: threadpoolctl>=2.0.0 in /usr/local/lib/python3.7/dist-packages (from scikit-learn>=0.17.1->Boruta) (3.1.0)\n"
          ]
        }
      ],
      "source": [
        "#!pip install Boruta"
      ]
    },
    {
      "cell_type": "code",
      "execution_count": null,
      "metadata": {
        "id": "m0EZkHi3MD3v"
      },
      "outputs": [],
      "source": [
        "#from boruta import BorutaPy\n",
        "#from sklearn.ensemble import RandomForestClassifier "
      ]
    },
    {
      "cell_type": "code",
      "execution_count": null,
      "metadata": {
        "colab": {
          "base_uri": "https://localhost:8080/"
        },
        "id": "dV03dl_7MFTR",
        "outputId": "7f5b8684-2e09-4bec-971d-40313a4b8b74"
      },
      "outputs": [
        {
          "output_type": "stream",
          "name": "stdout",
          "text": [
            "Iteration: \t1 / 100\n",
            "Confirmed: \t0\n",
            "Tentative: \t19\n",
            "Rejected: \t0\n",
            "Iteration: \t2 / 100\n",
            "Confirmed: \t0\n",
            "Tentative: \t19\n",
            "Rejected: \t0\n",
            "Iteration: \t3 / 100\n",
            "Confirmed: \t0\n",
            "Tentative: \t19\n",
            "Rejected: \t0\n",
            "Iteration: \t4 / 100\n",
            "Confirmed: \t0\n",
            "Tentative: \t19\n",
            "Rejected: \t0\n",
            "Iteration: \t5 / 100\n",
            "Confirmed: \t0\n",
            "Tentative: \t19\n",
            "Rejected: \t0\n",
            "Iteration: \t6 / 100\n",
            "Confirmed: \t0\n",
            "Tentative: \t19\n",
            "Rejected: \t0\n",
            "Iteration: \t7 / 100\n",
            "Confirmed: \t0\n",
            "Tentative: \t19\n",
            "Rejected: \t0\n",
            "Iteration: \t8 / 100\n",
            "Confirmed: \t0\n",
            "Tentative: \t1\n",
            "Rejected: \t18\n",
            "Iteration: \t9 / 100\n",
            "Confirmed: \t0\n",
            "Tentative: \t1\n",
            "Rejected: \t18\n",
            "Iteration: \t10 / 100\n",
            "Confirmed: \t0\n",
            "Tentative: \t1\n",
            "Rejected: \t18\n",
            "Iteration: \t11 / 100\n",
            "Confirmed: \t0\n",
            "Tentative: \t1\n",
            "Rejected: \t18\n",
            "Iteration: \t12 / 100\n",
            "Confirmed: \t0\n",
            "Tentative: \t1\n",
            "Rejected: \t18\n",
            "Iteration: \t13 / 100\n",
            "Confirmed: \t0\n",
            "Tentative: \t1\n",
            "Rejected: \t18\n",
            "Iteration: \t14 / 100\n",
            "Confirmed: \t0\n",
            "Tentative: \t1\n",
            "Rejected: \t18\n",
            "Iteration: \t15 / 100\n",
            "Confirmed: \t0\n",
            "Tentative: \t1\n",
            "Rejected: \t18\n",
            "Iteration: \t16 / 100\n",
            "Confirmed: \t0\n",
            "Tentative: \t1\n",
            "Rejected: \t18\n",
            "Iteration: \t17 / 100\n",
            "Confirmed: \t0\n",
            "Tentative: \t1\n",
            "Rejected: \t18\n",
            "Iteration: \t18 / 100\n",
            "Confirmed: \t0\n",
            "Tentative: \t1\n",
            "Rejected: \t18\n",
            "Iteration: \t19 / 100\n",
            "Confirmed: \t0\n",
            "Tentative: \t1\n",
            "Rejected: \t18\n",
            "Iteration: \t20 / 100\n",
            "Confirmed: \t0\n",
            "Tentative: \t1\n",
            "Rejected: \t18\n",
            "Iteration: \t21 / 100\n",
            "Confirmed: \t0\n",
            "Tentative: \t1\n",
            "Rejected: \t18\n",
            "Iteration: \t22 / 100\n",
            "Confirmed: \t0\n",
            "Tentative: \t0\n",
            "Rejected: \t19\n",
            "\n",
            "\n",
            "BorutaPy finished running.\n",
            "\n",
            "Iteration: \t23 / 100\n",
            "Confirmed: \t0\n",
            "Tentative: \t0\n",
            "Rejected: \t19\n"
          ]
        },
        {
          "output_type": "execute_result",
          "data": {
            "text/plain": [
              "BorutaPy(estimator=RandomForestClassifier(class_weight='balanced',\n",
              "                                          n_estimators=14, n_jobs=-1,\n",
              "                                          random_state=RandomState(MT19937) at 0x7F53D4281490),\n",
              "         n_estimators='auto',\n",
              "         random_state=RandomState(MT19937) at 0x7F53D4281490, verbose=2)"
            ]
          },
          "metadata": {},
          "execution_count": 282
        }
      ],
      "source": [
        "#define the features\n",
        "#X = df.iloc[:,df.columns!=\"Close\"].values\n",
        "#y = df.iloc[:,5].values\n",
        "#forest = RandomForestClassifier(n_estimators=1000, n_jobs=-1, class_weight='balanced')\n",
        "\n",
        "# define Boruta feature selection method\n",
        "#feat_selector = BorutaPy(forest, n_estimators='auto', verbose=2)\n",
        "\n",
        "# find all relevant features\n",
        "#feat_selector.fit(X, y)"
      ]
    },
    {
      "cell_type": "code",
      "execution_count": null,
      "metadata": {
        "colab": {
          "base_uri": "https://localhost:8080/"
        },
        "id": "kqZJ9g0yMGnP",
        "outputId": "865d74df-debe-46db-f402-bd19c20c00c6"
      },
      "outputs": [
        {
          "output_type": "execute_result",
          "data": {
            "text/plain": [
              "['Open',\n",
              " 'High',\n",
              " 'Low',\n",
              " 'Adj Close',\n",
              " 'Volume',\n",
              " 'Balance of Trade',\n",
              " 'Total cases',\n",
              " 'INR/USD',\n",
              " 'Unemployment rate',\n",
              " 'Inflation rate',\n",
              " 'NIFTY 50',\n",
              " 'WTI Crude Oil',\n",
              " 'Brent Crude Oil']"
            ]
          },
          "metadata": {},
          "execution_count": 283
        }
      ],
      "source": [
        "# select the top 10 features\n",
        "#top_features = df.columns[df.columns!=\"Close\"][feat_selector.ranking_ <= 14].tolist()\n",
        "#top_features"
      ]
    },
    {
      "cell_type": "code",
      "execution_count": null,
      "metadata": {
        "id": "gL8FBrrWMOxv"
      },
      "outputs": [],
      "source": [
        "corrmap = df.corr()"
      ]
    },
    {
      "cell_type": "code",
      "execution_count": null,
      "metadata": {
        "colab": {
          "base_uri": "https://localhost:8080/"
        },
        "id": "-U4GqOzUMQa3",
        "outputId": "8d27468f-3762-4a5d-a5c8-f64f533c8be6"
      },
      "outputs": [
        {
          "output_type": "execute_result",
          "data": {
            "text/plain": [
              "Open                 0.990454\n",
              "High                 0.996343\n",
              "Low                  0.995126\n",
              "Close                1.000000\n",
              "Adj Close            0.912612\n",
              "Volume              -0.190807\n",
              "GDP                  0.350075\n",
              "Balance of Trade    -0.609045\n",
              "Population          -0.013370\n",
              "Total cases          0.414628\n",
              "Total deaths         0.398470\n",
              "People vaccinated    0.522301\n",
              "Uncertainty index    0.030695\n",
              "INR/USD              0.354063\n",
              "Unemployment rate   -0.285975\n",
              "Inflation rate       0.233329\n",
              "interest rate        0.211293\n",
              "NIFTY 50             0.523389\n",
              "WTI Crude Oil        0.756421\n",
              "Brent Crude Oil      0.795970\n",
              "dtype: float64"
            ]
          },
          "metadata": {},
          "execution_count": 14
        }
      ],
      "source": [
        "df.corrwith(df[\"Close\"])"
      ]
    },
    {
      "cell_type": "code",
      "execution_count": null,
      "metadata": {
        "id": "340W0UI4MRgH"
      },
      "outputs": [],
      "source": [
        "def get_corelated_col(cor_dat, threshold):\n",
        "  feature=[]\n",
        "  value=[]\n",
        "\n",
        "  for i, index in enumerate(cor_dat.index):\n",
        "    if abs(cor_dat[index])>threshold:\n",
        "      feature.append(index)\n",
        "      value.append(cor_dat[index])\n",
        "\n",
        "\n",
        "  data = pd.DataFrame(data=value, index=feature, columns=['corr_value'])\n",
        "  return data"
      ]
    },
    {
      "cell_type": "code",
      "execution_count": null,
      "metadata": {
        "colab": {
          "base_uri": "https://localhost:8080/",
          "height": 363
        },
        "id": "Cjox6hm6MTQH",
        "outputId": "6c74d368-01ca-49b3-c354-7209a1acf6eb"
      },
      "outputs": [
        {
          "output_type": "execute_result",
          "data": {
            "text/plain": [
              "                   corr_value\n",
              "Open                 0.990454\n",
              "High                 0.996343\n",
              "Low                  0.995126\n",
              "Close                1.000000\n",
              "Adj Close            0.912612\n",
              "Balance of Trade    -0.609045\n",
              "People vaccinated    0.522301\n",
              "NIFTY 50             0.523389\n",
              "WTI Crude Oil        0.756421\n",
              "Brent Crude Oil      0.795970"
            ],
            "text/html": [
              "\n",
              "  <div id=\"df-17c1a46f-12a1-4519-a2b8-7857bfc0a6a3\">\n",
              "    <div class=\"colab-df-container\">\n",
              "      <div>\n",
              "<style scoped>\n",
              "    .dataframe tbody tr th:only-of-type {\n",
              "        vertical-align: middle;\n",
              "    }\n",
              "\n",
              "    .dataframe tbody tr th {\n",
              "        vertical-align: top;\n",
              "    }\n",
              "\n",
              "    .dataframe thead th {\n",
              "        text-align: right;\n",
              "    }\n",
              "</style>\n",
              "<table border=\"1\" class=\"dataframe\">\n",
              "  <thead>\n",
              "    <tr style=\"text-align: right;\">\n",
              "      <th></th>\n",
              "      <th>corr_value</th>\n",
              "    </tr>\n",
              "  </thead>\n",
              "  <tbody>\n",
              "    <tr>\n",
              "      <th>Open</th>\n",
              "      <td>0.990454</td>\n",
              "    </tr>\n",
              "    <tr>\n",
              "      <th>High</th>\n",
              "      <td>0.996343</td>\n",
              "    </tr>\n",
              "    <tr>\n",
              "      <th>Low</th>\n",
              "      <td>0.995126</td>\n",
              "    </tr>\n",
              "    <tr>\n",
              "      <th>Close</th>\n",
              "      <td>1.000000</td>\n",
              "    </tr>\n",
              "    <tr>\n",
              "      <th>Adj Close</th>\n",
              "      <td>0.912612</td>\n",
              "    </tr>\n",
              "    <tr>\n",
              "      <th>Balance of Trade</th>\n",
              "      <td>-0.609045</td>\n",
              "    </tr>\n",
              "    <tr>\n",
              "      <th>People vaccinated</th>\n",
              "      <td>0.522301</td>\n",
              "    </tr>\n",
              "    <tr>\n",
              "      <th>NIFTY 50</th>\n",
              "      <td>0.523389</td>\n",
              "    </tr>\n",
              "    <tr>\n",
              "      <th>WTI Crude Oil</th>\n",
              "      <td>0.756421</td>\n",
              "    </tr>\n",
              "    <tr>\n",
              "      <th>Brent Crude Oil</th>\n",
              "      <td>0.795970</td>\n",
              "    </tr>\n",
              "  </tbody>\n",
              "</table>\n",
              "</div>\n",
              "      <button class=\"colab-df-convert\" onclick=\"convertToInteractive('df-17c1a46f-12a1-4519-a2b8-7857bfc0a6a3')\"\n",
              "              title=\"Convert this dataframe to an interactive table.\"\n",
              "              style=\"display:none;\">\n",
              "        \n",
              "  <svg xmlns=\"http://www.w3.org/2000/svg\" height=\"24px\"viewBox=\"0 0 24 24\"\n",
              "       width=\"24px\">\n",
              "    <path d=\"M0 0h24v24H0V0z\" fill=\"none\"/>\n",
              "    <path d=\"M18.56 5.44l.94 2.06.94-2.06 2.06-.94-2.06-.94-.94-2.06-.94 2.06-2.06.94zm-11 1L8.5 8.5l.94-2.06 2.06-.94-2.06-.94L8.5 2.5l-.94 2.06-2.06.94zm10 10l.94 2.06.94-2.06 2.06-.94-2.06-.94-.94-2.06-.94 2.06-2.06.94z\"/><path d=\"M17.41 7.96l-1.37-1.37c-.4-.4-.92-.59-1.43-.59-.52 0-1.04.2-1.43.59L10.3 9.45l-7.72 7.72c-.78.78-.78 2.05 0 2.83L4 21.41c.39.39.9.59 1.41.59.51 0 1.02-.2 1.41-.59l7.78-7.78 2.81-2.81c.8-.78.8-2.07 0-2.86zM5.41 20L4 18.59l7.72-7.72 1.47 1.35L5.41 20z\"/>\n",
              "  </svg>\n",
              "      </button>\n",
              "      \n",
              "  <style>\n",
              "    .colab-df-container {\n",
              "      display:flex;\n",
              "      flex-wrap:wrap;\n",
              "      gap: 12px;\n",
              "    }\n",
              "\n",
              "    .colab-df-convert {\n",
              "      background-color: #E8F0FE;\n",
              "      border: none;\n",
              "      border-radius: 50%;\n",
              "      cursor: pointer;\n",
              "      display: none;\n",
              "      fill: #1967D2;\n",
              "      height: 32px;\n",
              "      padding: 0 0 0 0;\n",
              "      width: 32px;\n",
              "    }\n",
              "\n",
              "    .colab-df-convert:hover {\n",
              "      background-color: #E2EBFA;\n",
              "      box-shadow: 0px 1px 2px rgba(60, 64, 67, 0.3), 0px 1px 3px 1px rgba(60, 64, 67, 0.15);\n",
              "      fill: #174EA6;\n",
              "    }\n",
              "\n",
              "    [theme=dark] .colab-df-convert {\n",
              "      background-color: #3B4455;\n",
              "      fill: #D2E3FC;\n",
              "    }\n",
              "\n",
              "    [theme=dark] .colab-df-convert:hover {\n",
              "      background-color: #434B5C;\n",
              "      box-shadow: 0px 1px 3px 1px rgba(0, 0, 0, 0.15);\n",
              "      filter: drop-shadow(0px 1px 2px rgba(0, 0, 0, 0.3));\n",
              "      fill: #FFFFFF;\n",
              "    }\n",
              "  </style>\n",
              "\n",
              "      <script>\n",
              "        const buttonEl =\n",
              "          document.querySelector('#df-17c1a46f-12a1-4519-a2b8-7857bfc0a6a3 button.colab-df-convert');\n",
              "        buttonEl.style.display =\n",
              "          google.colab.kernel.accessAllowed ? 'block' : 'none';\n",
              "\n",
              "        async function convertToInteractive(key) {\n",
              "          const element = document.querySelector('#df-17c1a46f-12a1-4519-a2b8-7857bfc0a6a3');\n",
              "          const dataTable =\n",
              "            await google.colab.kernel.invokeFunction('convertToInteractive',\n",
              "                                                     [key], {});\n",
              "          if (!dataTable) return;\n",
              "\n",
              "          const docLinkHtml = 'Like what you see? Visit the ' +\n",
              "            '<a target=\"_blank\" href=https://colab.research.google.com/notebooks/data_table.ipynb>data table notebook</a>'\n",
              "            + ' to learn more about interactive tables.';\n",
              "          element.innerHTML = '';\n",
              "          dataTable['output_type'] = 'display_data';\n",
              "          await google.colab.output.renderOutput(dataTable, element);\n",
              "          const docLink = document.createElement('div');\n",
              "          docLink.innerHTML = docLinkHtml;\n",
              "          element.appendChild(docLink);\n",
              "        }\n",
              "      </script>\n",
              "    </div>\n",
              "  </div>\n",
              "  "
            ]
          },
          "metadata": {},
          "execution_count": 16
        }
      ],
      "source": [
        "top_corelated_values = get_corelated_col(corrmap['Close'],0.5)\n",
        "top_corelated_values"
      ]
    },
    {
      "cell_type": "code",
      "execution_count": null,
      "metadata": {
        "id": "1tnpCpD8MU2P"
      },
      "outputs": [],
      "source": [
        "X_top = df[top_corelated_values]\n",
        "y = df['Close']"
      ]
    },
    {
      "cell_type": "code",
      "execution_count": null,
      "metadata": {
        "colab": {
          "base_uri": "https://localhost:8080/",
          "height": 371
        },
        "id": "EiKlZ3LsMWPw",
        "outputId": "f63a3f67-11c5-4ae2-964f-989037529597"
      },
      "outputs": [
        {
          "output_type": "stream",
          "name": "stderr",
          "text": [
            "<ipython-input-20-6c165d9299fd>:2: FutureWarning: In a future version of pandas all arguments of concat except for the argument 'objs' will be keyword-only\n",
            "  data = pd.concat(X_top,y, axis=1)\n"
          ]
        },
        {
          "output_type": "error",
          "ename": "TypeError",
          "evalue": "ignored",
          "traceback": [
            "\u001b[0;31m---------------------------------------------------------------------------\u001b[0m",
            "\u001b[0;31mTypeError\u001b[0m                                 Traceback (most recent call last)",
            "\u001b[0;32m<ipython-input-20-6c165d9299fd>\u001b[0m in \u001b[0;36m<module>\u001b[0;34m\u001b[0m\n\u001b[1;32m      1\u001b[0m \u001b[0;31m# new dataset\u001b[0m\u001b[0;34m\u001b[0m\u001b[0;34m\u001b[0m\u001b[0;34m\u001b[0m\u001b[0m\n\u001b[0;32m----> 2\u001b[0;31m \u001b[0mdata\u001b[0m \u001b[0;34m=\u001b[0m \u001b[0mpd\u001b[0m\u001b[0;34m.\u001b[0m\u001b[0mconcat\u001b[0m\u001b[0;34m(\u001b[0m\u001b[0mX_top\u001b[0m\u001b[0;34m,\u001b[0m\u001b[0my\u001b[0m\u001b[0;34m,\u001b[0m \u001b[0maxis\u001b[0m\u001b[0;34m=\u001b[0m\u001b[0;36m1\u001b[0m\u001b[0;34m)\u001b[0m\u001b[0;34m\u001b[0m\u001b[0;34m\u001b[0m\u001b[0m\n\u001b[0m\u001b[1;32m      3\u001b[0m \u001b[0mdata\u001b[0m\u001b[0;34m.\u001b[0m\u001b[0mshape\u001b[0m\u001b[0;34m\u001b[0m\u001b[0;34m\u001b[0m\u001b[0m\n",
            "\u001b[0;32m/usr/local/lib/python3.8/dist-packages/pandas/util/_decorators.py\u001b[0m in \u001b[0;36mwrapper\u001b[0;34m(*args, **kwargs)\u001b[0m\n\u001b[1;32m    309\u001b[0m                     \u001b[0mstacklevel\u001b[0m\u001b[0;34m=\u001b[0m\u001b[0mstacklevel\u001b[0m\u001b[0;34m,\u001b[0m\u001b[0;34m\u001b[0m\u001b[0;34m\u001b[0m\u001b[0m\n\u001b[1;32m    310\u001b[0m                 )\n\u001b[0;32m--> 311\u001b[0;31m             \u001b[0;32mreturn\u001b[0m \u001b[0mfunc\u001b[0m\u001b[0;34m(\u001b[0m\u001b[0;34m*\u001b[0m\u001b[0margs\u001b[0m\u001b[0;34m,\u001b[0m \u001b[0;34m**\u001b[0m\u001b[0mkwargs\u001b[0m\u001b[0;34m)\u001b[0m\u001b[0;34m\u001b[0m\u001b[0;34m\u001b[0m\u001b[0m\n\u001b[0m\u001b[1;32m    312\u001b[0m \u001b[0;34m\u001b[0m\u001b[0m\n\u001b[1;32m    313\u001b[0m         \u001b[0;32mreturn\u001b[0m \u001b[0mwrapper\u001b[0m\u001b[0;34m\u001b[0m\u001b[0;34m\u001b[0m\u001b[0m\n",
            "\u001b[0;31mTypeError\u001b[0m: concat() got multiple values for argument 'axis'"
          ]
        }
      ],
      "source": [
        "# new dataset\n",
        "data = pd.concat( axis=1)\n",
        "data.shape"
      ]
    },
    {
      "cell_type": "code",
      "execution_count": null,
      "metadata": {
        "colab": {
          "base_uri": "https://localhost:8080/",
          "height": 407
        },
        "id": "-JvUL9x6MXao",
        "outputId": "f18dac5e-54f0-4d55-8373-435cf43f704d"
      },
      "outputs": [
        {
          "output_type": "stream",
          "name": "stderr",
          "text": [
            "/usr/local/lib/python3.8/dist-packages/sklearn/preprocessing/_data.py:461: RuntimeWarning: All-NaN slice encountered\n",
            "  data_min = np.nanmin(X, axis=0)\n",
            "/usr/local/lib/python3.8/dist-packages/sklearn/preprocessing/_data.py:462: RuntimeWarning: All-NaN slice encountered\n",
            "  data_max = np.nanmax(X, axis=0)\n"
          ]
        },
        {
          "output_type": "execute_result",
          "data": {
            "text/plain": [
              "   Open  High  Low  Close  Adj Close  Volume  GDP  Balance of Trade  \\\n",
              "0   NaN   NaN  NaN    NaN        NaN     NaN  NaN               NaN   \n",
              "1   NaN   NaN  NaN    NaN        NaN     NaN  NaN               NaN   \n",
              "2   NaN   NaN  NaN    NaN        NaN     NaN  NaN               NaN   \n",
              "3   NaN   NaN  NaN    NaN        NaN     NaN  NaN               NaN   \n",
              "4   NaN   NaN  NaN    NaN        NaN     NaN  NaN               NaN   \n",
              "\n",
              "   Population  Total cases  ...  People vaccinated  Uncertainty index  \\\n",
              "0         NaN          NaN  ...                NaN                NaN   \n",
              "1         NaN          NaN  ...                NaN                NaN   \n",
              "2         NaN          NaN  ...                NaN                NaN   \n",
              "3         NaN          NaN  ...                NaN                NaN   \n",
              "4         NaN          NaN  ...                NaN                NaN   \n",
              "\n",
              "   INR/USD  Unemployment rate  Inflation rate  interest rate  NIFTY 50  \\\n",
              "0      NaN                NaN             NaN            NaN       NaN   \n",
              "1      NaN                NaN             NaN            NaN       NaN   \n",
              "2      NaN                NaN             NaN            NaN       NaN   \n",
              "3      NaN                NaN             NaN            NaN       NaN   \n",
              "4      NaN                NaN             NaN            NaN       NaN   \n",
              "\n",
              "   WTI Crude Oil  Brent Crude Oil     Close  \n",
              "0            NaN              NaN  0.494661  \n",
              "1            NaN              NaN  0.493860  \n",
              "2            NaN              NaN  0.449813  \n",
              "3            NaN              NaN  0.449279  \n",
              "4            NaN              NaN  0.457822  \n",
              "\n",
              "[5 rows x 21 columns]"
            ],
            "text/html": [
              "\n",
              "  <div id=\"df-15d27e9c-2dd5-4658-b46c-b4379e8cfe1f\">\n",
              "    <div class=\"colab-df-container\">\n",
              "      <div>\n",
              "<style scoped>\n",
              "    .dataframe tbody tr th:only-of-type {\n",
              "        vertical-align: middle;\n",
              "    }\n",
              "\n",
              "    .dataframe tbody tr th {\n",
              "        vertical-align: top;\n",
              "    }\n",
              "\n",
              "    .dataframe thead th {\n",
              "        text-align: right;\n",
              "    }\n",
              "</style>\n",
              "<table border=\"1\" class=\"dataframe\">\n",
              "  <thead>\n",
              "    <tr style=\"text-align: right;\">\n",
              "      <th></th>\n",
              "      <th>Open</th>\n",
              "      <th>High</th>\n",
              "      <th>Low</th>\n",
              "      <th>Close</th>\n",
              "      <th>Adj Close</th>\n",
              "      <th>Volume</th>\n",
              "      <th>GDP</th>\n",
              "      <th>Balance of Trade</th>\n",
              "      <th>Population</th>\n",
              "      <th>Total cases</th>\n",
              "      <th>...</th>\n",
              "      <th>People vaccinated</th>\n",
              "      <th>Uncertainty index</th>\n",
              "      <th>INR/USD</th>\n",
              "      <th>Unemployment rate</th>\n",
              "      <th>Inflation rate</th>\n",
              "      <th>interest rate</th>\n",
              "      <th>NIFTY 50</th>\n",
              "      <th>WTI Crude Oil</th>\n",
              "      <th>Brent Crude Oil</th>\n",
              "      <th>Close</th>\n",
              "    </tr>\n",
              "  </thead>\n",
              "  <tbody>\n",
              "    <tr>\n",
              "      <th>0</th>\n",
              "      <td>NaN</td>\n",
              "      <td>NaN</td>\n",
              "      <td>NaN</td>\n",
              "      <td>NaN</td>\n",
              "      <td>NaN</td>\n",
              "      <td>NaN</td>\n",
              "      <td>NaN</td>\n",
              "      <td>NaN</td>\n",
              "      <td>NaN</td>\n",
              "      <td>NaN</td>\n",
              "      <td>...</td>\n",
              "      <td>NaN</td>\n",
              "      <td>NaN</td>\n",
              "      <td>NaN</td>\n",
              "      <td>NaN</td>\n",
              "      <td>NaN</td>\n",
              "      <td>NaN</td>\n",
              "      <td>NaN</td>\n",
              "      <td>NaN</td>\n",
              "      <td>NaN</td>\n",
              "      <td>0.494661</td>\n",
              "    </tr>\n",
              "    <tr>\n",
              "      <th>1</th>\n",
              "      <td>NaN</td>\n",
              "      <td>NaN</td>\n",
              "      <td>NaN</td>\n",
              "      <td>NaN</td>\n",
              "      <td>NaN</td>\n",
              "      <td>NaN</td>\n",
              "      <td>NaN</td>\n",
              "      <td>NaN</td>\n",
              "      <td>NaN</td>\n",
              "      <td>NaN</td>\n",
              "      <td>...</td>\n",
              "      <td>NaN</td>\n",
              "      <td>NaN</td>\n",
              "      <td>NaN</td>\n",
              "      <td>NaN</td>\n",
              "      <td>NaN</td>\n",
              "      <td>NaN</td>\n",
              "      <td>NaN</td>\n",
              "      <td>NaN</td>\n",
              "      <td>NaN</td>\n",
              "      <td>0.493860</td>\n",
              "    </tr>\n",
              "    <tr>\n",
              "      <th>2</th>\n",
              "      <td>NaN</td>\n",
              "      <td>NaN</td>\n",
              "      <td>NaN</td>\n",
              "      <td>NaN</td>\n",
              "      <td>NaN</td>\n",
              "      <td>NaN</td>\n",
              "      <td>NaN</td>\n",
              "      <td>NaN</td>\n",
              "      <td>NaN</td>\n",
              "      <td>NaN</td>\n",
              "      <td>...</td>\n",
              "      <td>NaN</td>\n",
              "      <td>NaN</td>\n",
              "      <td>NaN</td>\n",
              "      <td>NaN</td>\n",
              "      <td>NaN</td>\n",
              "      <td>NaN</td>\n",
              "      <td>NaN</td>\n",
              "      <td>NaN</td>\n",
              "      <td>NaN</td>\n",
              "      <td>0.449813</td>\n",
              "    </tr>\n",
              "    <tr>\n",
              "      <th>3</th>\n",
              "      <td>NaN</td>\n",
              "      <td>NaN</td>\n",
              "      <td>NaN</td>\n",
              "      <td>NaN</td>\n",
              "      <td>NaN</td>\n",
              "      <td>NaN</td>\n",
              "      <td>NaN</td>\n",
              "      <td>NaN</td>\n",
              "      <td>NaN</td>\n",
              "      <td>NaN</td>\n",
              "      <td>...</td>\n",
              "      <td>NaN</td>\n",
              "      <td>NaN</td>\n",
              "      <td>NaN</td>\n",
              "      <td>NaN</td>\n",
              "      <td>NaN</td>\n",
              "      <td>NaN</td>\n",
              "      <td>NaN</td>\n",
              "      <td>NaN</td>\n",
              "      <td>NaN</td>\n",
              "      <td>0.449279</td>\n",
              "    </tr>\n",
              "    <tr>\n",
              "      <th>4</th>\n",
              "      <td>NaN</td>\n",
              "      <td>NaN</td>\n",
              "      <td>NaN</td>\n",
              "      <td>NaN</td>\n",
              "      <td>NaN</td>\n",
              "      <td>NaN</td>\n",
              "      <td>NaN</td>\n",
              "      <td>NaN</td>\n",
              "      <td>NaN</td>\n",
              "      <td>NaN</td>\n",
              "      <td>...</td>\n",
              "      <td>NaN</td>\n",
              "      <td>NaN</td>\n",
              "      <td>NaN</td>\n",
              "      <td>NaN</td>\n",
              "      <td>NaN</td>\n",
              "      <td>NaN</td>\n",
              "      <td>NaN</td>\n",
              "      <td>NaN</td>\n",
              "      <td>NaN</td>\n",
              "      <td>0.457822</td>\n",
              "    </tr>\n",
              "  </tbody>\n",
              "</table>\n",
              "<p>5 rows × 21 columns</p>\n",
              "</div>\n",
              "      <button class=\"colab-df-convert\" onclick=\"convertToInteractive('df-15d27e9c-2dd5-4658-b46c-b4379e8cfe1f')\"\n",
              "              title=\"Convert this dataframe to an interactive table.\"\n",
              "              style=\"display:none;\">\n",
              "        \n",
              "  <svg xmlns=\"http://www.w3.org/2000/svg\" height=\"24px\"viewBox=\"0 0 24 24\"\n",
              "       width=\"24px\">\n",
              "    <path d=\"M0 0h24v24H0V0z\" fill=\"none\"/>\n",
              "    <path d=\"M18.56 5.44l.94 2.06.94-2.06 2.06-.94-2.06-.94-.94-2.06-.94 2.06-2.06.94zm-11 1L8.5 8.5l.94-2.06 2.06-.94-2.06-.94L8.5 2.5l-.94 2.06-2.06.94zm10 10l.94 2.06.94-2.06 2.06-.94-2.06-.94-.94-2.06-.94 2.06-2.06.94z\"/><path d=\"M17.41 7.96l-1.37-1.37c-.4-.4-.92-.59-1.43-.59-.52 0-1.04.2-1.43.59L10.3 9.45l-7.72 7.72c-.78.78-.78 2.05 0 2.83L4 21.41c.39.39.9.59 1.41.59.51 0 1.02-.2 1.41-.59l7.78-7.78 2.81-2.81c.8-.78.8-2.07 0-2.86zM5.41 20L4 18.59l7.72-7.72 1.47 1.35L5.41 20z\"/>\n",
              "  </svg>\n",
              "      </button>\n",
              "      \n",
              "  <style>\n",
              "    .colab-df-container {\n",
              "      display:flex;\n",
              "      flex-wrap:wrap;\n",
              "      gap: 12px;\n",
              "    }\n",
              "\n",
              "    .colab-df-convert {\n",
              "      background-color: #E8F0FE;\n",
              "      border: none;\n",
              "      border-radius: 50%;\n",
              "      cursor: pointer;\n",
              "      display: none;\n",
              "      fill: #1967D2;\n",
              "      height: 32px;\n",
              "      padding: 0 0 0 0;\n",
              "      width: 32px;\n",
              "    }\n",
              "\n",
              "    .colab-df-convert:hover {\n",
              "      background-color: #E2EBFA;\n",
              "      box-shadow: 0px 1px 2px rgba(60, 64, 67, 0.3), 0px 1px 3px 1px rgba(60, 64, 67, 0.15);\n",
              "      fill: #174EA6;\n",
              "    }\n",
              "\n",
              "    [theme=dark] .colab-df-convert {\n",
              "      background-color: #3B4455;\n",
              "      fill: #D2E3FC;\n",
              "    }\n",
              "\n",
              "    [theme=dark] .colab-df-convert:hover {\n",
              "      background-color: #434B5C;\n",
              "      box-shadow: 0px 1px 3px 1px rgba(0, 0, 0, 0.15);\n",
              "      filter: drop-shadow(0px 1px 2px rgba(0, 0, 0, 0.3));\n",
              "      fill: #FFFFFF;\n",
              "    }\n",
              "  </style>\n",
              "\n",
              "      <script>\n",
              "        const buttonEl =\n",
              "          document.querySelector('#df-15d27e9c-2dd5-4658-b46c-b4379e8cfe1f button.colab-df-convert');\n",
              "        buttonEl.style.display =\n",
              "          google.colab.kernel.accessAllowed ? 'block' : 'none';\n",
              "\n",
              "        async function convertToInteractive(key) {\n",
              "          const element = document.querySelector('#df-15d27e9c-2dd5-4658-b46c-b4379e8cfe1f');\n",
              "          const dataTable =\n",
              "            await google.colab.kernel.invokeFunction('convertToInteractive',\n",
              "                                                     [key], {});\n",
              "          if (!dataTable) return;\n",
              "\n",
              "          const docLinkHtml = 'Like what you see? Visit the ' +\n",
              "            '<a target=\"_blank\" href=https://colab.research.google.com/notebooks/data_table.ipynb>data table notebook</a>'\n",
              "            + ' to learn more about interactive tables.';\n",
              "          element.innerHTML = '';\n",
              "          dataTable['output_type'] = 'display_data';\n",
              "          await google.colab.output.renderOutput(dataTable, element);\n",
              "          const docLink = document.createElement('div');\n",
              "          docLink.innerHTML = docLinkHtml;\n",
              "          element.appendChild(docLink);\n",
              "        }\n",
              "      </script>\n",
              "    </div>\n",
              "  </div>\n",
              "  "
            ]
          },
          "metadata": {},
          "execution_count": 19
        }
      ],
      "source": [
        "from sklearn.preprocessing import MinMaxScaler\n",
        "scaler = MinMaxScaler()\n",
        "data = pd.DataFrame(scaler.fit_transform(data), columns=data.columns)\n",
        "data.head()"
      ]
    },
    {
      "cell_type": "code",
      "execution_count": null,
      "metadata": {
        "id": "6J7y3JlVMY3A"
      },
      "outputs": [],
      "source": [
        "import tensorflow as tf\n",
        "from tensorflow.keras.models import Sequential\n",
        "from tensorflow.keras.layers import *\n",
        "from tensorflow.keras.callbacks import ModelCheckpoint\n",
        "from tensorflow.keras.losses import MeanSquaredError\n",
        "from tensorflow.keras.metrics import RootMeanSquaredError\n",
        "from tensorflow.keras.optimizers import Adam"
      ]
    },
    {
      "cell_type": "code",
      "execution_count": null,
      "metadata": {
        "colab": {
          "base_uri": "https://localhost:8080/",
          "height": 283
        },
        "id": "EBzWKrrSMcao",
        "outputId": "9d2a5c5c-e63b-4100-c8bf-4163fe48a1c1"
      },
      "outputs": [
        {
          "output_type": "execute_result",
          "data": {
            "text/plain": [
              "<matplotlib.axes._subplots.AxesSubplot at 0x7f5336315cd0>"
            ]
          },
          "metadata": {},
          "execution_count": 292
        },
        {
          "output_type": "display_data",
          "data": {
            "text/plain": [
              "<Figure size 432x288 with 1 Axes>"
            ],
            "image/png": "[encoded data removed]"
          },
          "metadata": {
            "needs_background": "light"
          }
        }
      ],
      "source": [
        "temp = data['Close']\n",
        "temp.plot()"
      ]
    },
    {
      "cell_type": "code",
      "execution_count": null,
      "metadata": {
        "id": "qam-j7ZKMdoY"
      },
      "outputs": [],
      "source": [
        "def df_to_X_Y(data, window_size=5):\n",
        "  data_as_np = data.to_numpy()\n",
        "  X = []\n",
        "  Y = []\n",
        "  for i in range(len(data_as_np)-window_size):\n",
        "    row = [[a] for a in data_as_np[i:i+window_size]]\n",
        "    X.append(row)\n",
        "    label = data_as_np[i+window_size]\n",
        "    Y.append(label)\n",
        "  return np.array(X), np.array(Y)"
      ]
    },
    {
      "cell_type": "code",
      "execution_count": null,
      "metadata": {
        "colab": {
          "base_uri": "https://localhost:8080/"
        },
        "id": "A8nVFnyRMe8Y",
        "outputId": "262b41ba-fc46-4a16-d684-5ca0b497f989"
      },
      "outputs": [
        {
          "output_type": "execute_result",
          "data": {
            "text/plain": [
              "((735, 5, 1), (735,))"
            ]
          },
          "metadata": {},
          "execution_count": 294
        }
      ],
      "source": [
        "WINDOW_SIZE = 5\n",
        "X, Y = df_to_X_Y(temp, WINDOW_SIZE)\n",
        "X.shape, Y.shape"
      ]
    },
    {
      "cell_type": "code",
      "execution_count": null,
      "metadata": {
        "id": "fpZSkLO8MgKg"
      },
      "outputs": [],
      "source": [
        "from sklearn.model_selection import train_test_split\n",
        "X_train, X_test, Y_train, Y_test = train_test_split(X,Y,test_size=0.2)"
      ]
    },
    {
      "cell_type": "code",
      "execution_count": null,
      "metadata": {
        "colab": {
          "base_uri": "https://localhost:8080/"
        },
        "id": "9ordNC1nMhvx",
        "outputId": "4ea1248b-9809-4db0-a3cf-4d5927aedbf5"
      },
      "outputs": [
        {
          "output_type": "stream",
          "name": "stdout",
          "text": [
            "Model: \"sequential_15\"\n",
            "_________________________________________________________________\n",
            " Layer (type)                Output Shape              Param #   \n",
            "=================================================================\n",
            " lstm_5 (LSTM)               (None, 64)                16896     \n",
            "                                                                 \n",
            " dense_35 (Dense)            (None, 8)                 520       \n",
            "                                                                 \n",
            " dense_36 (Dense)            (None, 1)                 9         \n",
            "                                                                 \n",
            "=================================================================\n",
            "Total params: 17,425\n",
            "Trainable params: 17,425\n",
            "Non-trainable params: 0\n",
            "_________________________________________________________________\n"
          ]
        }
      ],
      "source": [
        "model_lstm=Sequential()\n",
        "model_lstm.add(InputLayer((5, 1)))\n",
        "model_lstm.add(LSTM(64))\n",
        "model_lstm.add(Dense(8, 'relu'))\n",
        "model_lstm.add(Dense(1, 'linear'))\n",
        "model_lstm.summary()"
      ]
    },
    {
      "cell_type": "code",
      "execution_count": null,
      "metadata": {
        "id": "hTBfrS1SMjVI"
      },
      "outputs": [],
      "source": [
        "model_lstm.compile(loss=MeanSquaredError(), optimizer=Adam(learning_rate=0.0001), metrics=[RootMeanSquaredError()])"
      ]
    },
    {
      "cell_type": "code",
      "execution_count": null,
      "metadata": {
        "colab": {
          "base_uri": "https://localhost:8080/"
        },
        "id": "BYScMsgYMk84",
        "outputId": "e2b15e7b-7bc9-45a7-fcbc-fb6137c4a64a"
      },
      "outputs": [
        {
          "output_type": "stream",
          "name": "stdout",
          "text": [
            "Epoch 1/100\n",
            "17/17 [==============================] - 3s 37ms/step - loss: 0.1698 - root_mean_squared_error: 0.4120 - val_loss: 0.1347 - val_root_mean_squared_error: 0.3670\n",
            "Epoch 2/100\n",
            "17/17 [==============================] - 0s 6ms/step - loss: 0.1371 - root_mean_squared_error: 0.3703 - val_loss: 0.1086 - val_root_mean_squared_error: 0.3295\n",
            "Epoch 3/100\n",
            "17/17 [==============================] - 0s 8ms/step - loss: 0.1122 - root_mean_squared_error: 0.3350 - val_loss: 0.0879 - val_root_mean_squared_error: 0.2964\n",
            "Epoch 4/100\n",
            "17/17 [==============================] - 0s 8ms/step - loss: 0.0908 - root_mean_squared_error: 0.3013 - val_loss: 0.0696 - val_root_mean_squared_error: 0.2638\n",
            "Epoch 5/100\n",
            "17/17 [==============================] - 0s 9ms/step - loss: 0.0716 - root_mean_squared_error: 0.2675 - val_loss: 0.0537 - val_root_mean_squared_error: 0.2318\n",
            "Epoch 6/100\n",
            "17/17 [==============================] - 0s 6ms/step - loss: 0.0550 - root_mean_squared_error: 0.2345 - val_loss: 0.0396 - val_root_mean_squared_error: 0.1991\n",
            "Epoch 7/100\n",
            "17/17 [==============================] - 0s 6ms/step - loss: 0.0406 - root_mean_squared_error: 0.2014 - val_loss: 0.0283 - val_root_mean_squared_error: 0.1682\n",
            "Epoch 8/100\n",
            "17/17 [==============================] - 0s 6ms/step - loss: 0.0289 - root_mean_squared_error: 0.1701 - val_loss: 0.0194 - val_root_mean_squared_error: 0.1393\n",
            "Epoch 9/100\n",
            "17/17 [==============================] - 0s 6ms/step - loss: 0.0201 - root_mean_squared_error: 0.1419 - val_loss: 0.0133 - val_root_mean_squared_error: 0.1155\n",
            "Epoch 10/100\n",
            "17/17 [==============================] - 0s 6ms/step - loss: 0.0144 - root_mean_squared_error: 0.1199 - val_loss: 0.0096 - val_root_mean_squared_error: 0.0978\n",
            "Epoch 11/100\n",
            "17/17 [==============================] - 0s 5ms/step - loss: 0.0108 - root_mean_squared_error: 0.1041 - val_loss: 0.0076 - val_root_mean_squared_error: 0.0870\n",
            "Epoch 12/100\n",
            "17/17 [==============================] - 0s 5ms/step - loss: 0.0089 - root_mean_squared_error: 0.0942 - val_loss: 0.0066 - val_root_mean_squared_error: 0.0814\n",
            "Epoch 13/100\n",
            "17/17 [==============================] - 0s 6ms/step - loss: 0.0078 - root_mean_squared_error: 0.0883 - val_loss: 0.0061 - val_root_mean_squared_error: 0.0781\n",
            "Epoch 14/100\n",
            "17/17 [==============================] - 0s 6ms/step - loss: 0.0072 - root_mean_squared_error: 0.0846 - val_loss: 0.0057 - val_root_mean_squared_error: 0.0753\n",
            "Epoch 15/100\n",
            "17/17 [==============================] - 0s 7ms/step - loss: 0.0066 - root_mean_squared_error: 0.0811 - val_loss: 0.0053 - val_root_mean_squared_error: 0.0726\n",
            "Epoch 16/100\n",
            "17/17 [==============================] - 0s 5ms/step - loss: 0.0061 - root_mean_squared_error: 0.0781 - val_loss: 0.0049 - val_root_mean_squared_error: 0.0699\n",
            "Epoch 17/100\n",
            "17/17 [==============================] - 0s 5ms/step - loss: 0.0056 - root_mean_squared_error: 0.0750 - val_loss: 0.0045 - val_root_mean_squared_error: 0.0669\n",
            "Epoch 18/100\n",
            "17/17 [==============================] - 0s 5ms/step - loss: 0.0052 - root_mean_squared_error: 0.0719 - val_loss: 0.0041 - val_root_mean_squared_error: 0.0641\n",
            "Epoch 19/100\n",
            "17/17 [==============================] - 0s 6ms/step - loss: 0.0047 - root_mean_squared_error: 0.0689 - val_loss: 0.0038 - val_root_mean_squared_error: 0.0613\n",
            "Epoch 20/100\n",
            "17/17 [==============================] - 0s 6ms/step - loss: 0.0043 - root_mean_squared_error: 0.0659 - val_loss: 0.0034 - val_root_mean_squared_error: 0.0584\n",
            "Epoch 21/100\n",
            "17/17 [==============================] - 0s 6ms/step - loss: 0.0040 - root_mean_squared_error: 0.0630 - val_loss: 0.0031 - val_root_mean_squared_error: 0.0558\n",
            "Epoch 22/100\n",
            "17/17 [==============================] - 0s 6ms/step - loss: 0.0036 - root_mean_squared_error: 0.0602 - val_loss: 0.0028 - val_root_mean_squared_error: 0.0532\n",
            "Epoch 23/100\n",
            "17/17 [==============================] - 0s 6ms/step - loss: 0.0033 - root_mean_squared_error: 0.0574 - val_loss: 0.0026 - val_root_mean_squared_error: 0.0506\n",
            "Epoch 24/100\n",
            "17/17 [==============================] - 0s 7ms/step - loss: 0.0030 - root_mean_squared_error: 0.0548 - val_loss: 0.0023 - val_root_mean_squared_error: 0.0482\n",
            "Epoch 25/100\n",
            "17/17 [==============================] - 0s 6ms/step - loss: 0.0027 - root_mean_squared_error: 0.0523 - val_loss: 0.0021 - val_root_mean_squared_error: 0.0459\n",
            "Epoch 26/100\n",
            "17/17 [==============================] - 0s 5ms/step - loss: 0.0025 - root_mean_squared_error: 0.0499 - val_loss: 0.0019 - val_root_mean_squared_error: 0.0438\n",
            "Epoch 27/100\n",
            "17/17 [==============================] - 0s 6ms/step - loss: 0.0023 - root_mean_squared_error: 0.0477 - val_loss: 0.0017 - val_root_mean_squared_error: 0.0418\n",
            "Epoch 28/100\n",
            "17/17 [==============================] - 0s 6ms/step - loss: 0.0021 - root_mean_squared_error: 0.0456 - val_loss: 0.0016 - val_root_mean_squared_error: 0.0401\n",
            "Epoch 29/100\n",
            "17/17 [==============================] - 0s 6ms/step - loss: 0.0019 - root_mean_squared_error: 0.0437 - val_loss: 0.0015 - val_root_mean_squared_error: 0.0384\n",
            "Epoch 30/100\n",
            "17/17 [==============================] - 0s 6ms/step - loss: 0.0018 - root_mean_squared_error: 0.0420 - val_loss: 0.0014 - val_root_mean_squared_error: 0.0369\n",
            "Epoch 31/100\n",
            "17/17 [==============================] - 0s 6ms/step - loss: 0.0016 - root_mean_squared_error: 0.0405 - val_loss: 0.0013 - val_root_mean_squared_error: 0.0356\n",
            "Epoch 32/100\n",
            "17/17 [==============================] - 0s 6ms/step - loss: 0.0015 - root_mean_squared_error: 0.0391 - val_loss: 0.0012 - val_root_mean_squared_error: 0.0344\n",
            "Epoch 33/100\n",
            "17/17 [==============================] - 0s 6ms/step - loss: 0.0014 - root_mean_squared_error: 0.0378 - val_loss: 0.0011 - val_root_mean_squared_error: 0.0334\n",
            "Epoch 34/100\n",
            "17/17 [==============================] - 0s 11ms/step - loss: 0.0014 - root_mean_squared_error: 0.0368 - val_loss: 0.0011 - val_root_mean_squared_error: 0.0326\n",
            "Epoch 35/100\n",
            "17/17 [==============================] - 0s 11ms/step - loss: 0.0013 - root_mean_squared_error: 0.0359 - val_loss: 0.0010 - val_root_mean_squared_error: 0.0319\n",
            "Epoch 36/100\n",
            "17/17 [==============================] - 0s 10ms/step - loss: 0.0012 - root_mean_squared_error: 0.0351 - val_loss: 9.8197e-04 - val_root_mean_squared_error: 0.0313\n",
            "Epoch 37/100\n",
            "17/17 [==============================] - 0s 10ms/step - loss: 0.0012 - root_mean_squared_error: 0.0345 - val_loss: 9.5058e-04 - val_root_mean_squared_error: 0.0308\n",
            "Epoch 38/100\n",
            "17/17 [==============================] - 0s 8ms/step - loss: 0.0012 - root_mean_squared_error: 0.0339 - val_loss: 9.2709e-04 - val_root_mean_squared_error: 0.0304\n",
            "Epoch 39/100\n",
            "17/17 [==============================] - 0s 13ms/step - loss: 0.0011 - root_mean_squared_error: 0.0334 - val_loss: 9.1139e-04 - val_root_mean_squared_error: 0.0302\n",
            "Epoch 40/100\n",
            "17/17 [==============================] - 0s 8ms/step - loss: 0.0011 - root_mean_squared_error: 0.0331 - val_loss: 8.9806e-04 - val_root_mean_squared_error: 0.0300\n",
            "Epoch 41/100\n",
            "17/17 [==============================] - 0s 9ms/step - loss: 0.0011 - root_mean_squared_error: 0.0328 - val_loss: 8.8410e-04 - val_root_mean_squared_error: 0.0297\n",
            "Epoch 42/100\n",
            "17/17 [==============================] - 0s 10ms/step - loss: 0.0011 - root_mean_squared_error: 0.0325 - val_loss: 8.7635e-04 - val_root_mean_squared_error: 0.0296\n",
            "Epoch 43/100\n",
            "17/17 [==============================] - 0s 14ms/step - loss: 0.0010 - root_mean_squared_error: 0.0323 - val_loss: 8.7304e-04 - val_root_mean_squared_error: 0.0295\n",
            "Epoch 44/100\n",
            "17/17 [==============================] - 0s 9ms/step - loss: 0.0010 - root_mean_squared_error: 0.0321 - val_loss: 8.6632e-04 - val_root_mean_squared_error: 0.0294\n",
            "Epoch 45/100\n",
            "17/17 [==============================] - 0s 10ms/step - loss: 0.0010 - root_mean_squared_error: 0.0320 - val_loss: 8.6440e-04 - val_root_mean_squared_error: 0.0294\n",
            "Epoch 46/100\n",
            "17/17 [==============================] - 0s 10ms/step - loss: 0.0010 - root_mean_squared_error: 0.0319 - val_loss: 8.6063e-04 - val_root_mean_squared_error: 0.0293\n",
            "Epoch 47/100\n",
            "17/17 [==============================] - 0s 8ms/step - loss: 0.0010 - root_mean_squared_error: 0.0318 - val_loss: 8.5903e-04 - val_root_mean_squared_error: 0.0293\n",
            "Epoch 48/100\n",
            "17/17 [==============================] - 0s 8ms/step - loss: 0.0010 - root_mean_squared_error: 0.0318 - val_loss: 8.5946e-04 - val_root_mean_squared_error: 0.0293\n",
            "Epoch 49/100\n",
            "17/17 [==============================] - 0s 8ms/step - loss: 0.0010 - root_mean_squared_error: 0.0317 - val_loss: 8.5698e-04 - val_root_mean_squared_error: 0.0293\n",
            "Epoch 50/100\n",
            "17/17 [==============================] - 0s 10ms/step - loss: 0.0010 - root_mean_squared_error: 0.0316 - val_loss: 8.5640e-04 - val_root_mean_squared_error: 0.0293\n",
            "Epoch 51/100\n",
            "17/17 [==============================] - 0s 11ms/step - loss: 9.9781e-04 - root_mean_squared_error: 0.0316 - val_loss: 8.5583e-04 - val_root_mean_squared_error: 0.0293\n",
            "Epoch 52/100\n",
            "17/17 [==============================] - 0s 9ms/step - loss: 9.9499e-04 - root_mean_squared_error: 0.0315 - val_loss: 8.5566e-04 - val_root_mean_squared_error: 0.0293\n",
            "Epoch 53/100\n",
            "17/17 [==============================] - 0s 10ms/step - loss: 9.9199e-04 - root_mean_squared_error: 0.0315 - val_loss: 8.5533e-04 - val_root_mean_squared_error: 0.0292\n",
            "Epoch 54/100\n",
            "17/17 [==============================] - 0s 9ms/step - loss: 9.8950e-04 - root_mean_squared_error: 0.0315 - val_loss: 8.5426e-04 - val_root_mean_squared_error: 0.0292\n",
            "Epoch 55/100\n",
            "17/17 [==============================] - 0s 9ms/step - loss: 9.8804e-04 - root_mean_squared_error: 0.0314 - val_loss: 8.5370e-04 - val_root_mean_squared_error: 0.0292\n",
            "Epoch 56/100\n",
            "17/17 [==============================] - 0s 9ms/step - loss: 9.8457e-04 - root_mean_squared_error: 0.0314 - val_loss: 8.5441e-04 - val_root_mean_squared_error: 0.0292\n",
            "Epoch 57/100\n",
            "17/17 [==============================] - 0s 11ms/step - loss: 9.8325e-04 - root_mean_squared_error: 0.0314 - val_loss: 8.5194e-04 - val_root_mean_squared_error: 0.0292\n",
            "Epoch 58/100\n",
            "17/17 [==============================] - 0s 11ms/step - loss: 9.8107e-04 - root_mean_squared_error: 0.0313 - val_loss: 8.5198e-04 - val_root_mean_squared_error: 0.0292\n",
            "Epoch 59/100\n",
            "17/17 [==============================] - 0s 14ms/step - loss: 9.8091e-04 - root_mean_squared_error: 0.0313 - val_loss: 8.5102e-04 - val_root_mean_squared_error: 0.0292\n",
            "Epoch 60/100\n",
            "17/17 [==============================] - 0s 15ms/step - loss: 9.7891e-04 - root_mean_squared_error: 0.0313 - val_loss: 8.4968e-04 - val_root_mean_squared_error: 0.0291\n",
            "Epoch 61/100\n",
            "17/17 [==============================] - 0s 11ms/step - loss: 9.8221e-04 - root_mean_squared_error: 0.0313 - val_loss: 8.5164e-04 - val_root_mean_squared_error: 0.0292\n",
            "Epoch 62/100\n",
            "17/17 [==============================] - 0s 10ms/step - loss: 9.7372e-04 - root_mean_squared_error: 0.0312 - val_loss: 8.4779e-04 - val_root_mean_squared_error: 0.0291\n",
            "Epoch 63/100\n",
            "17/17 [==============================] - 0s 10ms/step - loss: 9.7571e-04 - root_mean_squared_error: 0.0312 - val_loss: 8.4731e-04 - val_root_mean_squared_error: 0.0291\n",
            "Epoch 64/100\n",
            "17/17 [==============================] - 0s 9ms/step - loss: 9.7231e-04 - root_mean_squared_error: 0.0312 - val_loss: 8.4527e-04 - val_root_mean_squared_error: 0.0291\n",
            "Epoch 65/100\n",
            "17/17 [==============================] - 0s 9ms/step - loss: 9.6730e-04 - root_mean_squared_error: 0.0311 - val_loss: 8.4463e-04 - val_root_mean_squared_error: 0.0291\n",
            "Epoch 66/100\n",
            "17/17 [==============================] - 0s 9ms/step - loss: 9.6705e-04 - root_mean_squared_error: 0.0311 - val_loss: 8.4428e-04 - val_root_mean_squared_error: 0.0291\n",
            "Epoch 67/100\n",
            "17/17 [==============================] - 0s 10ms/step - loss: 9.6396e-04 - root_mean_squared_error: 0.0310 - val_loss: 8.4218e-04 - val_root_mean_squared_error: 0.0290\n",
            "Epoch 68/100\n",
            "17/17 [==============================] - 0s 12ms/step - loss: 9.6357e-04 - root_mean_squared_error: 0.0310 - val_loss: 8.4115e-04 - val_root_mean_squared_error: 0.0290\n",
            "Epoch 69/100\n",
            "17/17 [==============================] - 0s 12ms/step - loss: 9.6346e-04 - root_mean_squared_error: 0.0310 - val_loss: 8.4077e-04 - val_root_mean_squared_error: 0.0290\n",
            "Epoch 70/100\n",
            "17/17 [==============================] - 0s 10ms/step - loss: 9.5898e-04 - root_mean_squared_error: 0.0310 - val_loss: 8.3954e-04 - val_root_mean_squared_error: 0.0290\n",
            "Epoch 71/100\n",
            "17/17 [==============================] - 0s 10ms/step - loss: 9.5837e-04 - root_mean_squared_error: 0.0310 - val_loss: 8.3849e-04 - val_root_mean_squared_error: 0.0290\n",
            "Epoch 72/100\n",
            "17/17 [==============================] - 0s 8ms/step - loss: 9.5484e-04 - root_mean_squared_error: 0.0309 - val_loss: 8.3692e-04 - val_root_mean_squared_error: 0.0289\n",
            "Epoch 73/100\n",
            "17/17 [==============================] - 0s 10ms/step - loss: 9.5418e-04 - root_mean_squared_error: 0.0309 - val_loss: 8.3612e-04 - val_root_mean_squared_error: 0.0289\n",
            "Epoch 74/100\n",
            "17/17 [==============================] - 0s 12ms/step - loss: 9.5095e-04 - root_mean_squared_error: 0.0308 - val_loss: 8.3461e-04 - val_root_mean_squared_error: 0.0289\n",
            "Epoch 75/100\n",
            "17/17 [==============================] - 0s 14ms/step - loss: 9.5261e-04 - root_mean_squared_error: 0.0309 - val_loss: 8.3298e-04 - val_root_mean_squared_error: 0.0289\n",
            "Epoch 76/100\n",
            "17/17 [==============================] - 0s 10ms/step - loss: 9.5194e-04 - root_mean_squared_error: 0.0309 - val_loss: 8.3301e-04 - val_root_mean_squared_error: 0.0289\n",
            "Epoch 77/100\n",
            "17/17 [==============================] - 0s 10ms/step - loss: 9.4602e-04 - root_mean_squared_error: 0.0308 - val_loss: 8.3109e-04 - val_root_mean_squared_error: 0.0288\n",
            "Epoch 78/100\n",
            "17/17 [==============================] - 0s 16ms/step - loss: 9.4352e-04 - root_mean_squared_error: 0.0307 - val_loss: 8.2953e-04 - val_root_mean_squared_error: 0.0288\n",
            "Epoch 79/100\n",
            "17/17 [==============================] - 0s 10ms/step - loss: 9.4452e-04 - root_mean_squared_error: 0.0307 - val_loss: 8.2861e-04 - val_root_mean_squared_error: 0.0288\n",
            "Epoch 80/100\n",
            "17/17 [==============================] - 0s 15ms/step - loss: 9.4450e-04 - root_mean_squared_error: 0.0307 - val_loss: 8.2665e-04 - val_root_mean_squared_error: 0.0288\n",
            "Epoch 81/100\n",
            "17/17 [==============================] - 0s 16ms/step - loss: 9.3873e-04 - root_mean_squared_error: 0.0306 - val_loss: 8.2533e-04 - val_root_mean_squared_error: 0.0287\n",
            "Epoch 82/100\n",
            "17/17 [==============================] - 0s 9ms/step - loss: 9.3561e-04 - root_mean_squared_error: 0.0306 - val_loss: 8.2472e-04 - val_root_mean_squared_error: 0.0287\n",
            "Epoch 83/100\n",
            "17/17 [==============================] - 0s 11ms/step - loss: 9.3464e-04 - root_mean_squared_error: 0.0306 - val_loss: 8.2322e-04 - val_root_mean_squared_error: 0.0287\n",
            "Epoch 84/100\n",
            "17/17 [==============================] - 0s 11ms/step - loss: 9.3264e-04 - root_mean_squared_error: 0.0305 - val_loss: 8.2301e-04 - val_root_mean_squared_error: 0.0287\n",
            "Epoch 85/100\n",
            "17/17 [==============================] - 0s 15ms/step - loss: 9.3536e-04 - root_mean_squared_error: 0.0306 - val_loss: 8.2089e-04 - val_root_mean_squared_error: 0.0287\n",
            "Epoch 86/100\n",
            "17/17 [==============================] - 0s 16ms/step - loss: 9.2982e-04 - root_mean_squared_error: 0.0305 - val_loss: 8.1952e-04 - val_root_mean_squared_error: 0.0286\n",
            "Epoch 87/100\n",
            "17/17 [==============================] - 0s 11ms/step - loss: 9.2842e-04 - root_mean_squared_error: 0.0305 - val_loss: 8.1888e-04 - val_root_mean_squared_error: 0.0286\n",
            "Epoch 88/100\n",
            "17/17 [==============================] - 0s 11ms/step - loss: 9.3058e-04 - root_mean_squared_error: 0.0305 - val_loss: 8.1762e-04 - val_root_mean_squared_error: 0.0286\n",
            "Epoch 89/100\n",
            "17/17 [==============================] - 0s 9ms/step - loss: 9.3003e-04 - root_mean_squared_error: 0.0305 - val_loss: 8.1645e-04 - val_root_mean_squared_error: 0.0286\n",
            "Epoch 90/100\n",
            "17/17 [==============================] - 0s 9ms/step - loss: 9.2182e-04 - root_mean_squared_error: 0.0304 - val_loss: 8.1421e-04 - val_root_mean_squared_error: 0.0285\n",
            "Epoch 91/100\n",
            "17/17 [==============================] - 0s 9ms/step - loss: 9.1975e-04 - root_mean_squared_error: 0.0303 - val_loss: 8.1462e-04 - val_root_mean_squared_error: 0.0285\n",
            "Epoch 92/100\n",
            "17/17 [==============================] - 0s 9ms/step - loss: 9.1796e-04 - root_mean_squared_error: 0.0303 - val_loss: 8.1349e-04 - val_root_mean_squared_error: 0.0285\n",
            "Epoch 93/100\n",
            "17/17 [==============================] - 0s 11ms/step - loss: 9.1807e-04 - root_mean_squared_error: 0.0303 - val_loss: 8.1189e-04 - val_root_mean_squared_error: 0.0285\n",
            "Epoch 94/100\n",
            "17/17 [==============================] - 0s 10ms/step - loss: 9.1814e-04 - root_mean_squared_error: 0.0303 - val_loss: 8.1008e-04 - val_root_mean_squared_error: 0.0285\n",
            "Epoch 95/100\n",
            "17/17 [==============================] - 0s 10ms/step - loss: 9.1365e-04 - root_mean_squared_error: 0.0302 - val_loss: 8.0920e-04 - val_root_mean_squared_error: 0.0284\n",
            "Epoch 96/100\n",
            "17/17 [==============================] - 0s 17ms/step - loss: 9.1293e-04 - root_mean_squared_error: 0.0302 - val_loss: 8.0876e-04 - val_root_mean_squared_error: 0.0284\n",
            "Epoch 97/100\n",
            "17/17 [==============================] - 0s 23ms/step - loss: 9.0986e-04 - root_mean_squared_error: 0.0302 - val_loss: 8.0660e-04 - val_root_mean_squared_error: 0.0284\n",
            "Epoch 98/100\n",
            "17/17 [==============================] - 0s 16ms/step - loss: 9.1166e-04 - root_mean_squared_error: 0.0302 - val_loss: 8.0517e-04 - val_root_mean_squared_error: 0.0284\n",
            "Epoch 99/100\n",
            "17/17 [==============================] - 0s 12ms/step - loss: 9.0664e-04 - root_mean_squared_error: 0.0301 - val_loss: 8.0538e-04 - val_root_mean_squared_error: 0.0284\n",
            "Epoch 100/100\n",
            "17/17 [==============================] - 0s 14ms/step - loss: 9.0537e-04 - root_mean_squared_error: 0.0301 - val_loss: 8.0289e-04 - val_root_mean_squared_error: 0.0283\n"
          ]
        },
        {
          "output_type": "execute_result",
          "data": {
            "text/plain": [
              "<keras.callbacks.History at 0x7f53342aa690>"
            ]
          },
          "metadata": {},
          "execution_count": 298
        }
      ],
      "source": [
        "model_lstm.fit(X_train, Y_train, validation_split=0.10, epochs=100)"
      ]
    },
    {
      "cell_type": "code",
      "execution_count": null,
      "metadata": {
        "colab": {
          "base_uri": "https://localhost:8080/",
          "height": 424
        },
        "id": "BuwRDXvbMmkP",
        "outputId": "ca8debde-d868-49cf-a9f1-a03fc53be70f"
      },
      "outputs": [
        {
          "output_type": "execute_result",
          "data": {
            "text/plain": [
              "     Train Predictions   Actuals\n",
              "0             0.322838  0.304348\n",
              "1             0.208093  0.250884\n",
              "2             0.359040  0.360308\n",
              "3             0.269202  0.311629\n",
              "4             0.481026  0.531933\n",
              "..                 ...       ...\n",
              "142           0.270269  0.294570\n",
              "143           0.255672  0.238402\n",
              "144           0.582061  0.608280\n",
              "145           0.204237  0.229249\n",
              "146           0.273898  0.365717\n",
              "\n",
              "[147 rows x 2 columns]"
            ],
            "text/html": [
              "\n",
              "  <div id=\"df-a5ca7647-226c-42bf-8c0c-e84d5d3aecc5\">\n",
              "    <div class=\"colab-df-container\">\n",
              "      <div>\n",
              "<style scoped>\n",
              "    .dataframe tbody tr th:only-of-type {\n",
              "        vertical-align: middle;\n",
              "    }\n",
              "\n",
              "    .dataframe tbody tr th {\n",
              "        vertical-align: top;\n",
              "    }\n",
              "\n",
              "    .dataframe thead th {\n",
              "        text-align: right;\n",
              "    }\n",
              "</style>\n",
              "<table border=\"1\" class=\"dataframe\">\n",
              "  <thead>\n",
              "    <tr style=\"text-align: right;\">\n",
              "      <th></th>\n",
              "      <th>Train Predictions</th>\n",
              "      <th>Actuals</th>\n",
              "    </tr>\n",
              "  </thead>\n",
              "  <tbody>\n",
              "    <tr>\n",
              "      <th>0</th>\n",
              "      <td>0.322838</td>\n",
              "      <td>0.304348</td>\n",
              "    </tr>\n",
              "    <tr>\n",
              "      <th>1</th>\n",
              "      <td>0.208093</td>\n",
              "      <td>0.250884</td>\n",
              "    </tr>\n",
              "    <tr>\n",
              "      <th>2</th>\n",
              "      <td>0.359040</td>\n",
              "      <td>0.360308</td>\n",
              "    </tr>\n",
              "    <tr>\n",
              "      <th>3</th>\n",
              "      <td>0.269202</td>\n",
              "      <td>0.311629</td>\n",
              "    </tr>\n",
              "    <tr>\n",
              "      <th>4</th>\n",
              "      <td>0.481026</td>\n",
              "      <td>0.531933</td>\n",
              "    </tr>\n",
              "    <tr>\n",
              "      <th>...</th>\n",
              "      <td>...</td>\n",
              "      <td>...</td>\n",
              "    </tr>\n",
              "    <tr>\n",
              "      <th>142</th>\n",
              "      <td>0.270269</td>\n",
              "      <td>0.294570</td>\n",
              "    </tr>\n",
              "    <tr>\n",
              "      <th>143</th>\n",
              "      <td>0.255672</td>\n",
              "      <td>0.238402</td>\n",
              "    </tr>\n",
              "    <tr>\n",
              "      <th>144</th>\n",
              "      <td>0.582061</td>\n",
              "      <td>0.608280</td>\n",
              "    </tr>\n",
              "    <tr>\n",
              "      <th>145</th>\n",
              "      <td>0.204237</td>\n",
              "      <td>0.229249</td>\n",
              "    </tr>\n",
              "    <tr>\n",
              "      <th>146</th>\n",
              "      <td>0.273898</td>\n",
              "      <td>0.365717</td>\n",
              "    </tr>\n",
              "  </tbody>\n",
              "</table>\n",
              "<p>147 rows × 2 columns</p>\n",
              "</div>\n",
              "      <button class=\"colab-df-convert\" onclick=\"convertToInteractive('df-a5ca7647-226c-42bf-8c0c-e84d5d3aecc5')\"\n",
              "              title=\"Convert this dataframe to an interactive table.\"\n",
              "              style=\"display:none;\">\n",
              "        \n",
              "  <svg xmlns=\"http://www.w3.org/2000/svg\" height=\"24px\"viewBox=\"0 0 24 24\"\n",
              "       width=\"24px\">\n",
              "    <path d=\"M0 0h24v24H0V0z\" fill=\"none\"/>\n",
              "    <path d=\"M18.56 5.44l.94 2.06.94-2.06 2.06-.94-2.06-.94-.94-2.06-.94 2.06-2.06.94zm-11 1L8.5 8.5l.94-2.06 2.06-.94-2.06-.94L8.5 2.5l-.94 2.06-2.06.94zm10 10l.94 2.06.94-2.06 2.06-.94-2.06-.94-.94-2.06-.94 2.06-2.06.94z\"/><path d=\"M17.41 7.96l-1.37-1.37c-.4-.4-.92-.59-1.43-.59-.52 0-1.04.2-1.43.59L10.3 9.45l-7.72 7.72c-.78.78-.78 2.05 0 2.83L4 21.41c.39.39.9.59 1.41.59.51 0 1.02-.2 1.41-.59l7.78-7.78 2.81-2.81c.8-.78.8-2.07 0-2.86zM5.41 20L4 18.59l7.72-7.72 1.47 1.35L5.41 20z\"/>\n",
              "  </svg>\n",
              "      </button>\n",
              "      \n",
              "  <style>\n",
              "    .colab-df-container {\n",
              "      display:flex;\n",
              "      flex-wrap:wrap;\n",
              "      gap: 12px;\n",
              "    }\n",
              "\n",
              "    .colab-df-convert {\n",
              "      background-color: #E8F0FE;\n",
              "      border: none;\n",
              "      border-radius: 50%;\n",
              "      cursor: pointer;\n",
              "      display: none;\n",
              "      fill: #1967D2;\n",
              "      height: 32px;\n",
              "      padding: 0 0 0 0;\n",
              "      width: 32px;\n",
              "    }\n",
              "\n",
              "    .colab-df-convert:hover {\n",
              "      background-color: #E2EBFA;\n",
              "      box-shadow: 0px 1px 2px rgba(60, 64, 67, 0.3), 0px 1px 3px 1px rgba(60, 64, 67, 0.15);\n",
              "      fill: #174EA6;\n",
              "    }\n",
              "\n",
              "    [theme=dark] .colab-df-convert {\n",
              "      background-color: #3B4455;\n",
              "      fill: #D2E3FC;\n",
              "    }\n",
              "\n",
              "    [theme=dark] .colab-df-convert:hover {\n",
              "      background-color: #434B5C;\n",
              "      box-shadow: 0px 1px 3px 1px rgba(0, 0, 0, 0.15);\n",
              "      filter: drop-shadow(0px 1px 2px rgba(0, 0, 0, 0.3));\n",
              "      fill: #FFFFFF;\n",
              "    }\n",
              "  </style>\n",
              "\n",
              "      <script>\n",
              "        const buttonEl =\n",
              "          document.querySelector('#df-a5ca7647-226c-42bf-8c0c-e84d5d3aecc5 button.colab-df-convert');\n",
              "        buttonEl.style.display =\n",
              "          google.colab.kernel.accessAllowed ? 'block' : 'none';\n",
              "\n",
              "        async function convertToInteractive(key) {\n",
              "          const element = document.querySelector('#df-a5ca7647-226c-42bf-8c0c-e84d5d3aecc5');\n",
              "          const dataTable =\n",
              "            await google.colab.kernel.invokeFunction('convertToInteractive',\n",
              "                                                     [key], {});\n",
              "          if (!dataTable) return;\n",
              "\n",
              "          const docLinkHtml = 'Like what you see? Visit the ' +\n",
              "            '<a target=\"_blank\" href=https://colab.research.google.com/notebooks/data_table.ipynb>data table notebook</a>'\n",
              "            + ' to learn more about interactive tables.';\n",
              "          element.innerHTML = '';\n",
              "          dataTable['output_type'] = 'display_data';\n",
              "          await google.colab.output.renderOutput(dataTable, element);\n",
              "          const docLink = document.createElement('div');\n",
              "          docLink.innerHTML = docLinkHtml;\n",
              "          element.appendChild(docLink);\n",
              "        }\n",
              "      </script>\n",
              "    </div>\n",
              "  </div>\n",
              "  "
            ]
          },
          "metadata": {},
          "execution_count": 299
        }
      ],
      "source": [
        "train_predictions = model_lstm.predict(X_test).flatten()\n",
        "train_results = pd.DataFrame(data={'Train Predictions':train_predictions, 'Actuals':Y_test})\n",
        "train_results"
      ]
    },
    {
      "cell_type": "code",
      "source": [
        "from sklearn.metrics import mean_squared_error\n",
        "import math"
      ],
      "metadata": {
        "id": "dgh2yosa0Rht"
      },
      "execution_count": null,
      "outputs": []
    },
    {
      "cell_type": "code",
      "source": [
        "MSE1 = math.sqrt(mean_squared_error(Y_test, train_predictions))\n",
        "MSE1"
      ],
      "metadata": {
        "colab": {
          "base_uri": "https://localhost:8080/"
        },
        "id": "JPI92XOolub4",
        "outputId": "20cc0ed3-2da8-499b-a79c-9986ace44228"
      },
      "execution_count": null,
      "outputs": [
        {
          "output_type": "execute_result",
          "data": {
            "text/plain": [
              "0.028607521133836317"
            ]
          },
          "metadata": {},
          "execution_count": 301
        }
      ]
    },
    {
      "cell_type": "code",
      "source": [
        "RMSE1 = math.sqrt(MSE1)\n",
        "RMSE1"
      ],
      "metadata": {
        "colab": {
          "base_uri": "https://localhost:8080/"
        },
        "id": "tqN8KSDT0gs7",
        "outputId": "2529234d-cbad-4989-8ba9-03aea82b4ee9"
      },
      "execution_count": null,
      "outputs": [
        {
          "output_type": "execute_result",
          "data": {
            "text/plain": [
              "0.16913758048948294"
            ]
          },
          "metadata": {},
          "execution_count": 302
        }
      ]
    },
    {
      "cell_type": "code",
      "execution_count": null,
      "metadata": {
        "colab": {
          "base_uri": "https://localhost:8080/"
        },
        "id": "1rJQpKbfMoJH",
        "outputId": "3cd7fb14-d5eb-4509-bd18-1fb6b26266c8"
      },
      "outputs": [
        {
          "output_type": "execute_result",
          "data": {
            "text/plain": [
              "0.9853791279592508"
            ]
          },
          "metadata": {},
          "execution_count": 303
        }
      ],
      "source": [
        "from sklearn.metrics import r2_score\n",
        "Accuracy_lstm = r2_score(train_results['Train Predictions'],train_results['Actuals'])\n",
        "Accuracy_lstm"
      ]
    },
    {
      "cell_type": "code",
      "execution_count": null,
      "metadata": {
        "colab": {
          "base_uri": "https://localhost:8080/"
        },
        "id": "gQDK52Z_MqA4",
        "outputId": "20b03076-5a2c-4e07-9ba9-a29c9497ccfd"
      },
      "outputs": [
        {
          "output_type": "stream",
          "name": "stdout",
          "text": [
            "Model: \"sequential_16\"\n",
            "_________________________________________________________________\n",
            " Layer (type)                Output Shape              Param #   \n",
            "=================================================================\n",
            " conv1d_5 (Conv1D)           (None, 4, 64)             192       \n",
            "                                                                 \n",
            " flatten_10 (Flatten)        (None, 256)               0         \n",
            "                                                                 \n",
            " dense_37 (Dense)            (None, 8)                 2056      \n",
            "                                                                 \n",
            " dense_38 (Dense)            (None, 1)                 9         \n",
            "                                                                 \n",
            "=================================================================\n",
            "Total params: 2,257\n",
            "Trainable params: 2,257\n",
            "Non-trainable params: 0\n",
            "_________________________________________________________________\n"
          ]
        }
      ],
      "source": [
        "model2 = Sequential()\n",
        "model2.add(InputLayer((5, 1)))\n",
        "model2.add(Conv1D(64, kernel_size=2))\n",
        "model2.add(Flatten())\n",
        "model2.add(Dense(8, 'relu'))\n",
        "model2.add(Dense(1, 'linear'))\n",
        "\n",
        "model2.summary()"
      ]
    },
    {
      "cell_type": "code",
      "execution_count": null,
      "metadata": {
        "id": "2DWBtlZAMrn_"
      },
      "outputs": [],
      "source": [
        "model2.compile(loss=MeanSquaredError(), optimizer=Adam(learning_rate=0.0001), metrics=[RootMeanSquaredError()])\n"
      ]
    },
    {
      "cell_type": "code",
      "execution_count": null,
      "metadata": {
        "colab": {
          "base_uri": "https://localhost:8080/"
        },
        "id": "LOARln45M0wX",
        "outputId": "51e3fd2c-3969-4e76-9a15-80a723527ae0"
      },
      "outputs": [
        {
          "output_type": "stream",
          "name": "stdout",
          "text": [
            "Epoch 1/100\n",
            "17/17 [==============================] - 1s 24ms/step - loss: 0.1651 - root_mean_squared_error: 0.4063 - val_loss: 0.1292 - val_root_mean_squared_error: 0.3595\n",
            "Epoch 2/100\n",
            "17/17 [==============================] - 0s 13ms/step - loss: 0.1303 - root_mean_squared_error: 0.3610 - val_loss: 0.1002 - val_root_mean_squared_error: 0.3166\n",
            "Epoch 3/100\n",
            "17/17 [==============================] - 0s 13ms/step - loss: 0.1003 - root_mean_squared_error: 0.3167 - val_loss: 0.0762 - val_root_mean_squared_error: 0.2760\n",
            "Epoch 4/100\n",
            "17/17 [==============================] - 0s 8ms/step - loss: 0.0766 - root_mean_squared_error: 0.2767 - val_loss: 0.0566 - val_root_mean_squared_error: 0.2379\n",
            "Epoch 5/100\n",
            "17/17 [==============================] - 0s 8ms/step - loss: 0.0572 - root_mean_squared_error: 0.2392 - val_loss: 0.0411 - val_root_mean_squared_error: 0.2027\n",
            "Epoch 6/100\n",
            "17/17 [==============================] - 0s 8ms/step - loss: 0.0415 - root_mean_squared_error: 0.2037 - val_loss: 0.0295 - val_root_mean_squared_error: 0.1717\n",
            "Epoch 7/100\n",
            "17/17 [==============================] - 0s 8ms/step - loss: 0.0299 - root_mean_squared_error: 0.1730 - val_loss: 0.0204 - val_root_mean_squared_error: 0.1428\n",
            "Epoch 8/100\n",
            "17/17 [==============================] - 0s 12ms/step - loss: 0.0210 - root_mean_squared_error: 0.1450 - val_loss: 0.0140 - val_root_mean_squared_error: 0.1182\n",
            "Epoch 9/100\n",
            "17/17 [==============================] - 0s 16ms/step - loss: 0.0147 - root_mean_squared_error: 0.1211 - val_loss: 0.0097 - val_root_mean_squared_error: 0.0986\n",
            "Epoch 10/100\n",
            "17/17 [==============================] - 0s 20ms/step - loss: 0.0104 - root_mean_squared_error: 0.1021 - val_loss: 0.0068 - val_root_mean_squared_error: 0.0823\n",
            "Epoch 11/100\n",
            "17/17 [==============================] - 0s 13ms/step - loss: 0.0074 - root_mean_squared_error: 0.0858 - val_loss: 0.0048 - val_root_mean_squared_error: 0.0694\n",
            "Epoch 12/100\n",
            "17/17 [==============================] - 0s 14ms/step - loss: 0.0054 - root_mean_squared_error: 0.0734 - val_loss: 0.0034 - val_root_mean_squared_error: 0.0584\n",
            "Epoch 13/100\n",
            "17/17 [==============================] - 0s 7ms/step - loss: 0.0039 - root_mean_squared_error: 0.0627 - val_loss: 0.0025 - val_root_mean_squared_error: 0.0499\n",
            "Epoch 14/100\n",
            "17/17 [==============================] - 0s 7ms/step - loss: 0.0029 - root_mean_squared_error: 0.0541 - val_loss: 0.0019 - val_root_mean_squared_error: 0.0436\n",
            "Epoch 15/100\n",
            "17/17 [==============================] - 0s 8ms/step - loss: 0.0022 - root_mean_squared_error: 0.0472 - val_loss: 0.0015 - val_root_mean_squared_error: 0.0387\n",
            "Epoch 16/100\n",
            "17/17 [==============================] - 0s 10ms/step - loss: 0.0017 - root_mean_squared_error: 0.0417 - val_loss: 0.0012 - val_root_mean_squared_error: 0.0347\n",
            "Epoch 17/100\n",
            "17/17 [==============================] - 0s 15ms/step - loss: 0.0014 - root_mean_squared_error: 0.0377 - val_loss: 0.0010 - val_root_mean_squared_error: 0.0318\n",
            "Epoch 18/100\n",
            "17/17 [==============================] - 0s 13ms/step - loss: 0.0012 - root_mean_squared_error: 0.0342 - val_loss: 8.6477e-04 - val_root_mean_squared_error: 0.0294\n",
            "Epoch 19/100\n",
            "17/17 [==============================] - 0s 9ms/step - loss: 0.0010 - root_mean_squared_error: 0.0317 - val_loss: 7.6887e-04 - val_root_mean_squared_error: 0.0277\n",
            "Epoch 20/100\n",
            "17/17 [==============================] - 0s 10ms/step - loss: 8.6269e-04 - root_mean_squared_error: 0.0294 - val_loss: 7.0534e-04 - val_root_mean_squared_error: 0.0266\n",
            "Epoch 21/100\n",
            "17/17 [==============================] - 0s 13ms/step - loss: 7.7224e-04 - root_mean_squared_error: 0.0278 - val_loss: 6.6265e-04 - val_root_mean_squared_error: 0.0257\n",
            "Epoch 22/100\n",
            "17/17 [==============================] - 0s 11ms/step - loss: 6.9911e-04 - root_mean_squared_error: 0.0264 - val_loss: 6.2271e-04 - val_root_mean_squared_error: 0.0250\n",
            "Epoch 23/100\n",
            "17/17 [==============================] - 0s 11ms/step - loss: 6.5690e-04 - root_mean_squared_error: 0.0256 - val_loss: 5.9906e-04 - val_root_mean_squared_error: 0.0245\n",
            "Epoch 24/100\n",
            "17/17 [==============================] - 0s 5ms/step - loss: 6.2389e-04 - root_mean_squared_error: 0.0250 - val_loss: 5.8747e-04 - val_root_mean_squared_error: 0.0242\n",
            "Epoch 25/100\n",
            "17/17 [==============================] - 0s 5ms/step - loss: 5.9421e-04 - root_mean_squared_error: 0.0244 - val_loss: 5.7091e-04 - val_root_mean_squared_error: 0.0239\n",
            "Epoch 26/100\n",
            "17/17 [==============================] - 0s 5ms/step - loss: 5.7575e-04 - root_mean_squared_error: 0.0240 - val_loss: 5.6517e-04 - val_root_mean_squared_error: 0.0238\n",
            "Epoch 27/100\n",
            "17/17 [==============================] - 0s 5ms/step - loss: 5.6176e-04 - root_mean_squared_error: 0.0237 - val_loss: 5.6162e-04 - val_root_mean_squared_error: 0.0237\n",
            "Epoch 28/100\n",
            "17/17 [==============================] - 0s 4ms/step - loss: 5.5083e-04 - root_mean_squared_error: 0.0235 - val_loss: 5.5198e-04 - val_root_mean_squared_error: 0.0235\n",
            "Epoch 29/100\n",
            "17/17 [==============================] - 0s 6ms/step - loss: 5.5391e-04 - root_mean_squared_error: 0.0235 - val_loss: 5.6058e-04 - val_root_mean_squared_error: 0.0237\n",
            "Epoch 30/100\n",
            "17/17 [==============================] - 0s 5ms/step - loss: 5.3338e-04 - root_mean_squared_error: 0.0231 - val_loss: 5.4487e-04 - val_root_mean_squared_error: 0.0233\n",
            "Epoch 31/100\n",
            "17/17 [==============================] - 0s 6ms/step - loss: 5.4271e-04 - root_mean_squared_error: 0.0233 - val_loss: 5.6982e-04 - val_root_mean_squared_error: 0.0239\n",
            "Epoch 32/100\n",
            "17/17 [==============================] - 0s 6ms/step - loss: 5.3390e-04 - root_mean_squared_error: 0.0231 - val_loss: 5.3798e-04 - val_root_mean_squared_error: 0.0232\n",
            "Epoch 33/100\n",
            "17/17 [==============================] - 0s 4ms/step - loss: 5.2294e-04 - root_mean_squared_error: 0.0229 - val_loss: 5.4190e-04 - val_root_mean_squared_error: 0.0233\n",
            "Epoch 34/100\n",
            "17/17 [==============================] - 0s 5ms/step - loss: 5.1628e-04 - root_mean_squared_error: 0.0227 - val_loss: 5.3784e-04 - val_root_mean_squared_error: 0.0232\n",
            "Epoch 35/100\n",
            "17/17 [==============================] - 0s 4ms/step - loss: 5.1565e-04 - root_mean_squared_error: 0.0227 - val_loss: 5.3078e-04 - val_root_mean_squared_error: 0.0230\n",
            "Epoch 36/100\n",
            "17/17 [==============================] - 0s 5ms/step - loss: 5.0903e-04 - root_mean_squared_error: 0.0226 - val_loss: 5.3652e-04 - val_root_mean_squared_error: 0.0232\n",
            "Epoch 37/100\n",
            "17/17 [==============================] - 0s 6ms/step - loss: 5.1292e-04 - root_mean_squared_error: 0.0226 - val_loss: 5.2907e-04 - val_root_mean_squared_error: 0.0230\n",
            "Epoch 38/100\n",
            "17/17 [==============================] - 0s 4ms/step - loss: 5.0682e-04 - root_mean_squared_error: 0.0225 - val_loss: 5.2433e-04 - val_root_mean_squared_error: 0.0229\n",
            "Epoch 39/100\n",
            "17/17 [==============================] - 0s 4ms/step - loss: 5.0566e-04 - root_mean_squared_error: 0.0225 - val_loss: 5.2244e-04 - val_root_mean_squared_error: 0.0229\n",
            "Epoch 40/100\n",
            "17/17 [==============================] - 0s 5ms/step - loss: 5.0165e-04 - root_mean_squared_error: 0.0224 - val_loss: 5.3102e-04 - val_root_mean_squared_error: 0.0230\n",
            "Epoch 41/100\n",
            "17/17 [==============================] - 0s 5ms/step - loss: 4.9776e-04 - root_mean_squared_error: 0.0223 - val_loss: 5.1999e-04 - val_root_mean_squared_error: 0.0228\n",
            "Epoch 42/100\n",
            "17/17 [==============================] - 0s 4ms/step - loss: 4.9541e-04 - root_mean_squared_error: 0.0223 - val_loss: 5.1552e-04 - val_root_mean_squared_error: 0.0227\n",
            "Epoch 43/100\n",
            "17/17 [==============================] - 0s 5ms/step - loss: 4.9324e-04 - root_mean_squared_error: 0.0222 - val_loss: 5.2927e-04 - val_root_mean_squared_error: 0.0230\n",
            "Epoch 44/100\n",
            "17/17 [==============================] - 0s 4ms/step - loss: 4.9621e-04 - root_mean_squared_error: 0.0223 - val_loss: 5.1148e-04 - val_root_mean_squared_error: 0.0226\n",
            "Epoch 45/100\n",
            "17/17 [==============================] - 0s 5ms/step - loss: 4.8705e-04 - root_mean_squared_error: 0.0221 - val_loss: 5.1685e-04 - val_root_mean_squared_error: 0.0227\n",
            "Epoch 46/100\n",
            "17/17 [==============================] - 0s 5ms/step - loss: 4.8251e-04 - root_mean_squared_error: 0.0220 - val_loss: 5.0941e-04 - val_root_mean_squared_error: 0.0226\n",
            "Epoch 47/100\n",
            "17/17 [==============================] - 0s 4ms/step - loss: 4.9266e-04 - root_mean_squared_error: 0.0222 - val_loss: 5.1193e-04 - val_root_mean_squared_error: 0.0226\n",
            "Epoch 48/100\n",
            "17/17 [==============================] - 0s 5ms/step - loss: 4.7496e-04 - root_mean_squared_error: 0.0218 - val_loss: 5.0183e-04 - val_root_mean_squared_error: 0.0224\n",
            "Epoch 49/100\n",
            "17/17 [==============================] - 0s 4ms/step - loss: 4.7848e-04 - root_mean_squared_error: 0.0219 - val_loss: 5.0229e-04 - val_root_mean_squared_error: 0.0224\n",
            "Epoch 50/100\n",
            "17/17 [==============================] - 0s 4ms/step - loss: 4.7543e-04 - root_mean_squared_error: 0.0218 - val_loss: 5.1216e-04 - val_root_mean_squared_error: 0.0226\n",
            "Epoch 51/100\n",
            "17/17 [==============================] - 0s 5ms/step - loss: 4.7626e-04 - root_mean_squared_error: 0.0218 - val_loss: 4.9732e-04 - val_root_mean_squared_error: 0.0223\n",
            "Epoch 52/100\n",
            "17/17 [==============================] - 0s 4ms/step - loss: 4.7167e-04 - root_mean_squared_error: 0.0217 - val_loss: 4.9562e-04 - val_root_mean_squared_error: 0.0223\n",
            "Epoch 53/100\n",
            "17/17 [==============================] - 0s 4ms/step - loss: 4.6703e-04 - root_mean_squared_error: 0.0216 - val_loss: 4.9481e-04 - val_root_mean_squared_error: 0.0222\n",
            "Epoch 54/100\n",
            "17/17 [==============================] - 0s 5ms/step - loss: 4.6512e-04 - root_mean_squared_error: 0.0216 - val_loss: 4.9285e-04 - val_root_mean_squared_error: 0.0222\n",
            "Epoch 55/100\n",
            "17/17 [==============================] - 0s 5ms/step - loss: 4.6820e-04 - root_mean_squared_error: 0.0216 - val_loss: 4.9089e-04 - val_root_mean_squared_error: 0.0222\n",
            "Epoch 56/100\n",
            "17/17 [==============================] - 0s 4ms/step - loss: 4.6105e-04 - root_mean_squared_error: 0.0215 - val_loss: 5.0013e-04 - val_root_mean_squared_error: 0.0224\n",
            "Epoch 57/100\n",
            "17/17 [==============================] - 0s 5ms/step - loss: 4.5875e-04 - root_mean_squared_error: 0.0214 - val_loss: 4.8634e-04 - val_root_mean_squared_error: 0.0221\n",
            "Epoch 58/100\n",
            "17/17 [==============================] - 0s 4ms/step - loss: 4.6098e-04 - root_mean_squared_error: 0.0215 - val_loss: 4.8503e-04 - val_root_mean_squared_error: 0.0220\n",
            "Epoch 59/100\n",
            "17/17 [==============================] - 0s 4ms/step - loss: 4.5486e-04 - root_mean_squared_error: 0.0213 - val_loss: 4.8247e-04 - val_root_mean_squared_error: 0.0220\n",
            "Epoch 60/100\n",
            "17/17 [==============================] - 0s 4ms/step - loss: 4.5870e-04 - root_mean_squared_error: 0.0214 - val_loss: 4.9154e-04 - val_root_mean_squared_error: 0.0222\n",
            "Epoch 61/100\n",
            "17/17 [==============================] - 0s 4ms/step - loss: 4.5174e-04 - root_mean_squared_error: 0.0213 - val_loss: 4.7983e-04 - val_root_mean_squared_error: 0.0219\n",
            "Epoch 62/100\n",
            "17/17 [==============================] - 0s 6ms/step - loss: 4.4807e-04 - root_mean_squared_error: 0.0212 - val_loss: 4.7746e-04 - val_root_mean_squared_error: 0.0219\n",
            "Epoch 63/100\n",
            "17/17 [==============================] - 0s 5ms/step - loss: 4.4819e-04 - root_mean_squared_error: 0.0212 - val_loss: 4.8192e-04 - val_root_mean_squared_error: 0.0220\n",
            "Epoch 64/100\n",
            "17/17 [==============================] - 0s 6ms/step - loss: 4.4579e-04 - root_mean_squared_error: 0.0211 - val_loss: 4.7547e-04 - val_root_mean_squared_error: 0.0218\n",
            "Epoch 65/100\n",
            "17/17 [==============================] - 0s 5ms/step - loss: 4.4926e-04 - root_mean_squared_error: 0.0212 - val_loss: 4.7317e-04 - val_root_mean_squared_error: 0.0218\n",
            "Epoch 66/100\n",
            "17/17 [==============================] - 0s 5ms/step - loss: 4.4491e-04 - root_mean_squared_error: 0.0211 - val_loss: 4.6932e-04 - val_root_mean_squared_error: 0.0217\n",
            "Epoch 67/100\n",
            "17/17 [==============================] - 0s 4ms/step - loss: 4.3908e-04 - root_mean_squared_error: 0.0210 - val_loss: 4.7231e-04 - val_root_mean_squared_error: 0.0217\n",
            "Epoch 68/100\n",
            "17/17 [==============================] - 0s 4ms/step - loss: 4.3674e-04 - root_mean_squared_error: 0.0209 - val_loss: 4.6803e-04 - val_root_mean_squared_error: 0.0216\n",
            "Epoch 69/100\n",
            "17/17 [==============================] - 0s 5ms/step - loss: 4.3579e-04 - root_mean_squared_error: 0.0209 - val_loss: 4.6519e-04 - val_root_mean_squared_error: 0.0216\n",
            "Epoch 70/100\n",
            "17/17 [==============================] - 0s 5ms/step - loss: 4.3239e-04 - root_mean_squared_error: 0.0208 - val_loss: 4.6528e-04 - val_root_mean_squared_error: 0.0216\n",
            "Epoch 71/100\n",
            "17/17 [==============================] - 0s 4ms/step - loss: 4.3760e-04 - root_mean_squared_error: 0.0209 - val_loss: 4.8441e-04 - val_root_mean_squared_error: 0.0220\n",
            "Epoch 72/100\n",
            "17/17 [==============================] - 0s 5ms/step - loss: 4.5222e-04 - root_mean_squared_error: 0.0213 - val_loss: 4.6674e-04 - val_root_mean_squared_error: 0.0216\n",
            "Epoch 73/100\n",
            "17/17 [==============================] - 0s 5ms/step - loss: 4.4425e-04 - root_mean_squared_error: 0.0211 - val_loss: 4.5937e-04 - val_root_mean_squared_error: 0.0214\n",
            "Epoch 74/100\n",
            "17/17 [==============================] - 0s 6ms/step - loss: 4.3089e-04 - root_mean_squared_error: 0.0208 - val_loss: 4.5800e-04 - val_root_mean_squared_error: 0.0214\n",
            "Epoch 75/100\n",
            "17/17 [==============================] - 0s 5ms/step - loss: 4.2931e-04 - root_mean_squared_error: 0.0207 - val_loss: 4.5804e-04 - val_root_mean_squared_error: 0.0214\n",
            "Epoch 76/100\n",
            "17/17 [==============================] - 0s 4ms/step - loss: 4.2643e-04 - root_mean_squared_error: 0.0207 - val_loss: 4.5455e-04 - val_root_mean_squared_error: 0.0213\n",
            "Epoch 77/100\n",
            "17/17 [==============================] - 0s 4ms/step - loss: 4.2076e-04 - root_mean_squared_error: 0.0205 - val_loss: 4.6624e-04 - val_root_mean_squared_error: 0.0216\n",
            "Epoch 78/100\n",
            "17/17 [==============================] - 0s 4ms/step - loss: 4.2547e-04 - root_mean_squared_error: 0.0206 - val_loss: 4.5067e-04 - val_root_mean_squared_error: 0.0212\n",
            "Epoch 79/100\n",
            "17/17 [==============================] - 0s 4ms/step - loss: 4.2752e-04 - root_mean_squared_error: 0.0207 - val_loss: 4.5164e-04 - val_root_mean_squared_error: 0.0213\n",
            "Epoch 80/100\n",
            "17/17 [==============================] - 0s 4ms/step - loss: 4.2212e-04 - root_mean_squared_error: 0.0205 - val_loss: 4.4863e-04 - val_root_mean_squared_error: 0.0212\n",
            "Epoch 81/100\n",
            "17/17 [==============================] - 0s 6ms/step - loss: 4.1687e-04 - root_mean_squared_error: 0.0204 - val_loss: 4.4711e-04 - val_root_mean_squared_error: 0.0211\n",
            "Epoch 82/100\n",
            "17/17 [==============================] - 0s 6ms/step - loss: 4.1322e-04 - root_mean_squared_error: 0.0203 - val_loss: 4.4669e-04 - val_root_mean_squared_error: 0.0211\n",
            "Epoch 83/100\n",
            "17/17 [==============================] - 0s 5ms/step - loss: 4.1380e-04 - root_mean_squared_error: 0.0203 - val_loss: 4.4236e-04 - val_root_mean_squared_error: 0.0210\n",
            "Epoch 84/100\n",
            "17/17 [==============================] - 0s 4ms/step - loss: 4.1937e-04 - root_mean_squared_error: 0.0205 - val_loss: 4.4596e-04 - val_root_mean_squared_error: 0.0211\n",
            "Epoch 85/100\n",
            "17/17 [==============================] - 0s 5ms/step - loss: 4.1716e-04 - root_mean_squared_error: 0.0204 - val_loss: 4.4178e-04 - val_root_mean_squared_error: 0.0210\n",
            "Epoch 86/100\n",
            "17/17 [==============================] - 0s 4ms/step - loss: 4.0789e-04 - root_mean_squared_error: 0.0202 - val_loss: 4.4063e-04 - val_root_mean_squared_error: 0.0210\n",
            "Epoch 87/100\n",
            "17/17 [==============================] - 0s 5ms/step - loss: 4.0643e-04 - root_mean_squared_error: 0.0202 - val_loss: 4.3870e-04 - val_root_mean_squared_error: 0.0209\n",
            "Epoch 88/100\n",
            "17/17 [==============================] - 0s 4ms/step - loss: 4.0862e-04 - root_mean_squared_error: 0.0202 - val_loss: 4.3928e-04 - val_root_mean_squared_error: 0.0210\n",
            "Epoch 89/100\n",
            "17/17 [==============================] - 0s 4ms/step - loss: 4.0427e-04 - root_mean_squared_error: 0.0201 - val_loss: 4.3640e-04 - val_root_mean_squared_error: 0.0209\n",
            "Epoch 90/100\n",
            "17/17 [==============================] - 0s 4ms/step - loss: 4.0801e-04 - root_mean_squared_error: 0.0202 - val_loss: 4.3394e-04 - val_root_mean_squared_error: 0.0208\n",
            "Epoch 91/100\n",
            "17/17 [==============================] - 0s 4ms/step - loss: 4.0987e-04 - root_mean_squared_error: 0.0202 - val_loss: 4.4524e-04 - val_root_mean_squared_error: 0.0211\n",
            "Epoch 92/100\n",
            "17/17 [==============================] - 0s 4ms/step - loss: 4.0309e-04 - root_mean_squared_error: 0.0201 - val_loss: 4.3098e-04 - val_root_mean_squared_error: 0.0208\n",
            "Epoch 93/100\n",
            "17/17 [==============================] - 0s 4ms/step - loss: 4.0365e-04 - root_mean_squared_error: 0.0201 - val_loss: 4.3205e-04 - val_root_mean_squared_error: 0.0208\n",
            "Epoch 94/100\n",
            "17/17 [==============================] - 0s 6ms/step - loss: 3.9488e-04 - root_mean_squared_error: 0.0199 - val_loss: 4.3707e-04 - val_root_mean_squared_error: 0.0209\n",
            "Epoch 95/100\n",
            "17/17 [==============================] - 0s 5ms/step - loss: 4.0162e-04 - root_mean_squared_error: 0.0200 - val_loss: 4.2486e-04 - val_root_mean_squared_error: 0.0206\n",
            "Epoch 96/100\n",
            "17/17 [==============================] - 0s 6ms/step - loss: 3.9672e-04 - root_mean_squared_error: 0.0199 - val_loss: 4.2384e-04 - val_root_mean_squared_error: 0.0206\n",
            "Epoch 97/100\n",
            "17/17 [==============================] - 0s 4ms/step - loss: 3.9476e-04 - root_mean_squared_error: 0.0199 - val_loss: 4.2382e-04 - val_root_mean_squared_error: 0.0206\n",
            "Epoch 98/100\n",
            "17/17 [==============================] - 0s 5ms/step - loss: 3.9161e-04 - root_mean_squared_error: 0.0198 - val_loss: 4.2929e-04 - val_root_mean_squared_error: 0.0207\n",
            "Epoch 99/100\n",
            "17/17 [==============================] - 0s 5ms/step - loss: 3.9486e-04 - root_mean_squared_error: 0.0199 - val_loss: 4.1849e-04 - val_root_mean_squared_error: 0.0205\n",
            "Epoch 100/100\n",
            "17/17 [==============================] - 0s 5ms/step - loss: 4.0118e-04 - root_mean_squared_error: 0.0200 - val_loss: 4.2103e-04 - val_root_mean_squared_error: 0.0205\n"
          ]
        },
        {
          "output_type": "execute_result",
          "data": {
            "text/plain": [
              "<keras.callbacks.History at 0x7f534c8f7c50>"
            ]
          },
          "metadata": {},
          "execution_count": 306
        }
      ],
      "source": [
        "model2.fit(X_train, Y_train, validation_split=0.10, epochs=100)\n"
      ]
    },
    {
      "cell_type": "code",
      "execution_count": null,
      "metadata": {
        "colab": {
          "base_uri": "https://localhost:8080/",
          "height": 424
        },
        "id": "yIyE-4qJM1zA",
        "outputId": "45416aae-63b4-447a-938b-4d2366aa1a6f"
      },
      "outputs": [
        {
          "output_type": "execute_result",
          "data": {
            "text/plain": [
              "     Train Predictions   Actuals\n",
              "0             0.314859  0.304348\n",
              "1             0.222031  0.250884\n",
              "2             0.362411  0.360308\n",
              "3             0.291656  0.311629\n",
              "4             0.503652  0.531933\n",
              "..                 ...       ...\n",
              "142           0.269626  0.294570\n",
              "143           0.257186  0.238402\n",
              "144           0.602939  0.608280\n",
              "145           0.204932  0.229249\n",
              "146           0.267033  0.365717\n",
              "\n",
              "[147 rows x 2 columns]"
            ],
            "text/html": [
              "\n",
              "  <div id=\"df-5104ca8c-4480-422c-9ecb-016b29acf514\">\n",
              "    <div class=\"colab-df-container\">\n",
              "      <div>\n",
              "<style scoped>\n",
              "    .dataframe tbody tr th:only-of-type {\n",
              "        vertical-align: middle;\n",
              "    }\n",
              "\n",
              "    .dataframe tbody tr th {\n",
              "        vertical-align: top;\n",
              "    }\n",
              "\n",
              "    .dataframe thead th {\n",
              "        text-align: right;\n",
              "    }\n",
              "</style>\n",
              "<table border=\"1\" class=\"dataframe\">\n",
              "  <thead>\n",
              "    <tr style=\"text-align: right;\">\n",
              "      <th></th>\n",
              "      <th>Train Predictions</th>\n",
              "      <th>Actuals</th>\n",
              "    </tr>\n",
              "  </thead>\n",
              "  <tbody>\n",
              "    <tr>\n",
              "      <th>0</th>\n",
              "      <td>0.314859</td>\n",
              "      <td>0.304348</td>\n",
              "    </tr>\n",
              "    <tr>\n",
              "      <th>1</th>\n",
              "      <td>0.222031</td>\n",
              "      <td>0.250884</td>\n",
              "    </tr>\n",
              "    <tr>\n",
              "      <th>2</th>\n",
              "      <td>0.362411</td>\n",
              "      <td>0.360308</td>\n",
              "    </tr>\n",
              "    <tr>\n",
              "      <th>3</th>\n",
              "      <td>0.291656</td>\n",
              "      <td>0.311629</td>\n",
              "    </tr>\n",
              "    <tr>\n",
              "      <th>4</th>\n",
              "      <td>0.503652</td>\n",
              "      <td>0.531933</td>\n",
              "    </tr>\n",
              "    <tr>\n",
              "      <th>...</th>\n",
              "      <td>...</td>\n",
              "      <td>...</td>\n",
              "    </tr>\n",
              "    <tr>\n",
              "      <th>142</th>\n",
              "      <td>0.269626</td>\n",
              "      <td>0.294570</td>\n",
              "    </tr>\n",
              "    <tr>\n",
              "      <th>143</th>\n",
              "      <td>0.257186</td>\n",
              "      <td>0.238402</td>\n",
              "    </tr>\n",
              "    <tr>\n",
              "      <th>144</th>\n",
              "      <td>0.602939</td>\n",
              "      <td>0.608280</td>\n",
              "    </tr>\n",
              "    <tr>\n",
              "      <th>145</th>\n",
              "      <td>0.204932</td>\n",
              "      <td>0.229249</td>\n",
              "    </tr>\n",
              "    <tr>\n",
              "      <th>146</th>\n",
              "      <td>0.267033</td>\n",
              "      <td>0.365717</td>\n",
              "    </tr>\n",
              "  </tbody>\n",
              "</table>\n",
              "<p>147 rows × 2 columns</p>\n",
              "</div>\n",
              "      <button class=\"colab-df-convert\" onclick=\"convertToInteractive('df-5104ca8c-4480-422c-9ecb-016b29acf514')\"\n",
              "              title=\"Convert this dataframe to an interactive table.\"\n",
              "              style=\"display:none;\">\n",
              "        \n",
              "  <svg xmlns=\"http://www.w3.org/2000/svg\" height=\"24px\"viewBox=\"0 0 24 24\"\n",
              "       width=\"24px\">\n",
              "    <path d=\"M0 0h24v24H0V0z\" fill=\"none\"/>\n",
              "    <path d=\"M18.56 5.44l.94 2.06.94-2.06 2.06-.94-2.06-.94-.94-2.06-.94 2.06-2.06.94zm-11 1L8.5 8.5l.94-2.06 2.06-.94-2.06-.94L8.5 2.5l-.94 2.06-2.06.94zm10 10l.94 2.06.94-2.06 2.06-.94-2.06-.94-.94-2.06-.94 2.06-2.06.94z\"/><path d=\"M17.41 7.96l-1.37-1.37c-.4-.4-.92-.59-1.43-.59-.52 0-1.04.2-1.43.59L10.3 9.45l-7.72 7.72c-.78.78-.78 2.05 0 2.83L4 21.41c.39.39.9.59 1.41.59.51 0 1.02-.2 1.41-.59l7.78-7.78 2.81-2.81c.8-.78.8-2.07 0-2.86zM5.41 20L4 18.59l7.72-7.72 1.47 1.35L5.41 20z\"/>\n",
              "  </svg>\n",
              "      </button>\n",
              "      \n",
              "  <style>\n",
              "    .colab-df-container {\n",
              "      display:flex;\n",
              "      flex-wrap:wrap;\n",
              "      gap: 12px;\n",
              "    }\n",
              "\n",
              "    .colab-df-convert {\n",
              "      background-color: #E8F0FE;\n",
              "      border: none;\n",
              "      border-radius: 50%;\n",
              "      cursor: pointer;\n",
              "      display: none;\n",
              "      fill: #1967D2;\n",
              "      height: 32px;\n",
              "      padding: 0 0 0 0;\n",
              "      width: 32px;\n",
              "    }\n",
              "\n",
              "    .colab-df-convert:hover {\n",
              "      background-color: #E2EBFA;\n",
              "      box-shadow: 0px 1px 2px rgba(60, 64, 67, 0.3), 0px 1px 3px 1px rgba(60, 64, 67, 0.15);\n",
              "      fill: #174EA6;\n",
              "    }\n",
              "\n",
              "    [theme=dark] .colab-df-convert {\n",
              "      background-color: #3B4455;\n",
              "      fill: #D2E3FC;\n",
              "    }\n",
              "\n",
              "    [theme=dark] .colab-df-convert:hover {\n",
              "      background-color: #434B5C;\n",
              "      box-shadow: 0px 1px 3px 1px rgba(0, 0, 0, 0.15);\n",
              "      filter: drop-shadow(0px 1px 2px rgba(0, 0, 0, 0.3));\n",
              "      fill: #FFFFFF;\n",
              "    }\n",
              "  </style>\n",
              "\n",
              "      <script>\n",
              "        const buttonEl =\n",
              "          document.querySelector('#df-5104ca8c-4480-422c-9ecb-016b29acf514 button.colab-df-convert');\n",
              "        buttonEl.style.display =\n",
              "          google.colab.kernel.accessAllowed ? 'block' : 'none';\n",
              "\n",
              "        async function convertToInteractive(key) {\n",
              "          const element = document.querySelector('#df-5104ca8c-4480-422c-9ecb-016b29acf514');\n",
              "          const dataTable =\n",
              "            await google.colab.kernel.invokeFunction('convertToInteractive',\n",
              "                                                     [key], {});\n",
              "          if (!dataTable) return;\n",
              "\n",
              "          const docLinkHtml = 'Like what you see? Visit the ' +\n",
              "            '<a target=\"_blank\" href=https://colab.research.google.com/notebooks/data_table.ipynb>data table notebook</a>'\n",
              "            + ' to learn more about interactive tables.';\n",
              "          element.innerHTML = '';\n",
              "          dataTable['output_type'] = 'display_data';\n",
              "          await google.colab.output.renderOutput(dataTable, element);\n",
              "          const docLink = document.createElement('div');\n",
              "          docLink.innerHTML = docLinkHtml;\n",
              "          element.appendChild(docLink);\n",
              "        }\n",
              "      </script>\n",
              "    </div>\n",
              "  </div>\n",
              "  "
            ]
          },
          "metadata": {},
          "execution_count": 307
        }
      ],
      "source": [
        "train_predictions = model2.predict(X_test).flatten()\n",
        "train_results = pd.DataFrame(data={'Train Predictions':train_predictions, 'Actuals':Y_test})\n",
        "train_results"
      ]
    },
    {
      "cell_type": "code",
      "source": [
        "from sklearn.metrics import mean_squared_error\n",
        "import math"
      ],
      "metadata": {
        "id": "8mkVmoQ_1ctJ"
      },
      "execution_count": null,
      "outputs": []
    },
    {
      "cell_type": "code",
      "source": [
        "MSE2 = mean_squared_error(Y_test, train_predictions)\n",
        "MSE2"
      ],
      "metadata": {
        "colab": {
          "base_uri": "https://localhost:8080/"
        },
        "id": "nQXSDqve1h-x",
        "outputId": "33831dce-33a0-4924-d85e-021ed98d253e"
      },
      "execution_count": null,
      "outputs": [
        {
          "output_type": "execute_result",
          "data": {
            "text/plain": [
              "0.0004070168070682732"
            ]
          },
          "metadata": {},
          "execution_count": 309
        }
      ]
    },
    {
      "cell_type": "code",
      "source": [
        "RMSE2 = math.sqrt(MSE2)\n",
        "RMSE2"
      ],
      "metadata": {
        "colab": {
          "base_uri": "https://localhost:8080/"
        },
        "id": "1cKHk2U711Uk",
        "outputId": "18a8b1bd-54ea-451f-f813-c5e927401e38"
      },
      "execution_count": null,
      "outputs": [
        {
          "output_type": "execute_result",
          "data": {
            "text/plain": [
              "0.020174657545253976"
            ]
          },
          "metadata": {},
          "execution_count": 310
        }
      ]
    },
    {
      "cell_type": "code",
      "execution_count": null,
      "metadata": {
        "colab": {
          "base_uri": "https://localhost:8080/"
        },
        "id": "fSWuT65uM3p_",
        "outputId": "53e66688-a325-4609-f4c7-b26f8efeaec0"
      },
      "outputs": [
        {
          "output_type": "execute_result",
          "data": {
            "text/plain": [
              "0.9927975798807593"
            ]
          },
          "metadata": {},
          "execution_count": 311
        }
      ],
      "source": [
        "from sklearn.metrics import r2_score\n",
        "Accuracy_cnn = r2_score(train_results['Train Predictions'],train_results['Actuals'])\n",
        "Accuracy_cnn"
      ]
    },
    {
      "cell_type": "code",
      "execution_count": null,
      "metadata": {
        "colab": {
          "base_uri": "https://localhost:8080/"
        },
        "id": "E7vSt1zkM5dA",
        "outputId": "8588bf90-1a27-4a42-e908-8569185fdcaf"
      },
      "outputs": [
        {
          "output_type": "stream",
          "name": "stdout",
          "text": [
            "Model: \"sequential_17\"\n",
            "_________________________________________________________________\n",
            " Layer (type)                Output Shape              Param #   \n",
            "=================================================================\n",
            " dense_39 (Dense)            (None, 5, 64)             128       \n",
            "                                                                 \n",
            " flatten_11 (Flatten)        (None, 320)               0         \n",
            "                                                                 \n",
            " dense_40 (Dense)            (None, 8)                 2568      \n",
            "                                                                 \n",
            " dense_41 (Dense)            (None, 1)                 9         \n",
            "                                                                 \n",
            "=================================================================\n",
            "Total params: 2,705\n",
            "Trainable params: 2,705\n",
            "Non-trainable params: 0\n",
            "_________________________________________________________________\n"
          ]
        }
      ],
      "source": [
        "model3 = Sequential()\n",
        "model3.add(InputLayer((5, 1)))\n",
        "model3.add(Dense(64, kernel_initializer= 'uniform'))\n",
        "model3.add(Flatten())\n",
        "model3.add(Dense(8, 'relu'))\n",
        "model3.add(Dense(1, 'linear'))\n",
        "\n",
        "model3.summary()"
      ]
    },
    {
      "cell_type": "code",
      "execution_count": null,
      "metadata": {
        "id": "3B3OxNTeM-TI"
      },
      "outputs": [],
      "source": [
        "model3.compile(loss=MeanSquaredError(), optimizer=Adam(learning_rate=0.0001), metrics=[RootMeanSquaredError()])\n"
      ]
    },
    {
      "cell_type": "code",
      "execution_count": null,
      "metadata": {
        "colab": {
          "base_uri": "https://localhost:8080/"
        },
        "id": "-WZPEP4NNAAI",
        "outputId": "d4bf34c8-7b6d-4180-cc14-2bd819feb6b7"
      },
      "outputs": [
        {
          "output_type": "stream",
          "name": "stdout",
          "text": [
            "Epoch 1/100\n",
            "17/17 [==============================] - 1s 12ms/step - loss: 0.1915 - root_mean_squared_error: 0.4376 - val_loss: 0.1652 - val_root_mean_squared_error: 0.4064\n",
            "Epoch 2/100\n",
            "17/17 [==============================] - 0s 3ms/step - loss: 0.1814 - root_mean_squared_error: 0.4259 - val_loss: 0.1606 - val_root_mean_squared_error: 0.4007\n",
            "Epoch 3/100\n",
            "17/17 [==============================] - 0s 3ms/step - loss: 0.1788 - root_mean_squared_error: 0.4229 - val_loss: 0.1595 - val_root_mean_squared_error: 0.3993\n",
            "Epoch 4/100\n",
            "17/17 [==============================] - 0s 3ms/step - loss: 0.1776 - root_mean_squared_error: 0.4214 - val_loss: 0.1582 - val_root_mean_squared_error: 0.3977\n",
            "Epoch 5/100\n",
            "17/17 [==============================] - 0s 3ms/step - loss: 0.1757 - root_mean_squared_error: 0.4192 - val_loss: 0.1548 - val_root_mean_squared_error: 0.3935\n",
            "Epoch 6/100\n",
            "17/17 [==============================] - 0s 3ms/step - loss: 0.1679 - root_mean_squared_error: 0.4097 - val_loss: 0.1404 - val_root_mean_squared_error: 0.3748\n",
            "Epoch 7/100\n",
            "17/17 [==============================] - 0s 3ms/step - loss: 0.1505 - root_mean_squared_error: 0.3879 - val_loss: 0.1237 - val_root_mean_squared_error: 0.3517\n",
            "Epoch 8/100\n",
            "17/17 [==============================] - 0s 3ms/step - loss: 0.1330 - root_mean_squared_error: 0.3648 - val_loss: 0.1089 - val_root_mean_squared_error: 0.3300\n",
            "Epoch 9/100\n",
            "17/17 [==============================] - 0s 4ms/step - loss: 0.1175 - root_mean_squared_error: 0.3428 - val_loss: 0.0949 - val_root_mean_squared_error: 0.3081\n",
            "Epoch 10/100\n",
            "17/17 [==============================] - 0s 3ms/step - loss: 0.1028 - root_mean_squared_error: 0.3207 - val_loss: 0.0821 - val_root_mean_squared_error: 0.2864\n",
            "Epoch 11/100\n",
            "17/17 [==============================] - 0s 4ms/step - loss: 0.0895 - root_mean_squared_error: 0.2991 - val_loss: 0.0699 - val_root_mean_squared_error: 0.2644\n",
            "Epoch 12/100\n",
            "17/17 [==============================] - 0s 3ms/step - loss: 0.0766 - root_mean_squared_error: 0.2767 - val_loss: 0.0596 - val_root_mean_squared_error: 0.2441\n",
            "Epoch 13/100\n",
            "17/17 [==============================] - 0s 3ms/step - loss: 0.0659 - root_mean_squared_error: 0.2566 - val_loss: 0.0501 - val_root_mean_squared_error: 0.2238\n",
            "Epoch 14/100\n",
            "17/17 [==============================] - 0s 3ms/step - loss: 0.0562 - root_mean_squared_error: 0.2371 - val_loss: 0.0424 - val_root_mean_squared_error: 0.2059\n",
            "Epoch 15/100\n",
            "17/17 [==============================] - 0s 4ms/step - loss: 0.0483 - root_mean_squared_error: 0.2198 - val_loss: 0.0365 - val_root_mean_squared_error: 0.1909\n",
            "Epoch 16/100\n",
            "17/17 [==============================] - 0s 3ms/step - loss: 0.0422 - root_mean_squared_error: 0.2053 - val_loss: 0.0318 - val_root_mean_squared_error: 0.1784\n",
            "Epoch 17/100\n",
            "17/17 [==============================] - 0s 3ms/step - loss: 0.0375 - root_mean_squared_error: 0.1936 - val_loss: 0.0285 - val_root_mean_squared_error: 0.1688\n",
            "Epoch 18/100\n",
            "17/17 [==============================] - 0s 3ms/step - loss: 0.0339 - root_mean_squared_error: 0.1840 - val_loss: 0.0263 - val_root_mean_squared_error: 0.1623\n",
            "Epoch 19/100\n",
            "17/17 [==============================] - 0s 3ms/step - loss: 0.0315 - root_mean_squared_error: 0.1776 - val_loss: 0.0247 - val_root_mean_squared_error: 0.1572\n",
            "Epoch 20/100\n",
            "17/17 [==============================] - 0s 3ms/step - loss: 0.0297 - root_mean_squared_error: 0.1724 - val_loss: 0.0236 - val_root_mean_squared_error: 0.1535\n",
            "Epoch 21/100\n",
            "17/17 [==============================] - 0s 4ms/step - loss: 0.0283 - root_mean_squared_error: 0.1682 - val_loss: 0.0227 - val_root_mean_squared_error: 0.1507\n",
            "Epoch 22/100\n",
            "17/17 [==============================] - 0s 3ms/step - loss: 0.0272 - root_mean_squared_error: 0.1649 - val_loss: 0.0220 - val_root_mean_squared_error: 0.1483\n",
            "Epoch 23/100\n",
            "17/17 [==============================] - 0s 4ms/step - loss: 0.0262 - root_mean_squared_error: 0.1620 - val_loss: 0.0213 - val_root_mean_squared_error: 0.1459\n",
            "Epoch 24/100\n",
            "17/17 [==============================] - 0s 3ms/step - loss: 0.0253 - root_mean_squared_error: 0.1591 - val_loss: 0.0206 - val_root_mean_squared_error: 0.1437\n",
            "Epoch 25/100\n",
            "17/17 [==============================] - 0s 3ms/step - loss: 0.0245 - root_mean_squared_error: 0.1565 - val_loss: 0.0200 - val_root_mean_squared_error: 0.1414\n",
            "Epoch 26/100\n",
            "17/17 [==============================] - 0s 3ms/step - loss: 0.0237 - root_mean_squared_error: 0.1538 - val_loss: 0.0193 - val_root_mean_squared_error: 0.1390\n",
            "Epoch 27/100\n",
            "17/17 [==============================] - 0s 3ms/step - loss: 0.0228 - root_mean_squared_error: 0.1511 - val_loss: 0.0187 - val_root_mean_squared_error: 0.1366\n",
            "Epoch 28/100\n",
            "17/17 [==============================] - 0s 3ms/step - loss: 0.0220 - root_mean_squared_error: 0.1484 - val_loss: 0.0180 - val_root_mean_squared_error: 0.1340\n",
            "Epoch 29/100\n",
            "17/17 [==============================] - 0s 3ms/step - loss: 0.0212 - root_mean_squared_error: 0.1457 - val_loss: 0.0173 - val_root_mean_squared_error: 0.1315\n",
            "Epoch 30/100\n",
            "17/17 [==============================] - 0s 4ms/step - loss: 0.0204 - root_mean_squared_error: 0.1428 - val_loss: 0.0166 - val_root_mean_squared_error: 0.1289\n",
            "Epoch 31/100\n",
            "17/17 [==============================] - 0s 3ms/step - loss: 0.0196 - root_mean_squared_error: 0.1400 - val_loss: 0.0159 - val_root_mean_squared_error: 0.1263\n",
            "Epoch 32/100\n",
            "17/17 [==============================] - 0s 3ms/step - loss: 0.0188 - root_mean_squared_error: 0.1370 - val_loss: 0.0153 - val_root_mean_squared_error: 0.1235\n",
            "Epoch 33/100\n",
            "17/17 [==============================] - 0s 3ms/step - loss: 0.0180 - root_mean_squared_error: 0.1341 - val_loss: 0.0146 - val_root_mean_squared_error: 0.1208\n",
            "Epoch 34/100\n",
            "17/17 [==============================] - 0s 3ms/step - loss: 0.0172 - root_mean_squared_error: 0.1311 - val_loss: 0.0139 - val_root_mean_squared_error: 0.1180\n",
            "Epoch 35/100\n",
            "17/17 [==============================] - 0s 3ms/step - loss: 0.0164 - root_mean_squared_error: 0.1280 - val_loss: 0.0133 - val_root_mean_squared_error: 0.1152\n",
            "Epoch 36/100\n",
            "17/17 [==============================] - 0s 3ms/step - loss: 0.0156 - root_mean_squared_error: 0.1249 - val_loss: 0.0126 - val_root_mean_squared_error: 0.1122\n",
            "Epoch 37/100\n",
            "17/17 [==============================] - 0s 4ms/step - loss: 0.0148 - root_mean_squared_error: 0.1217 - val_loss: 0.0119 - val_root_mean_squared_error: 0.1092\n",
            "Epoch 38/100\n",
            "17/17 [==============================] - 0s 3ms/step - loss: 0.0140 - root_mean_squared_error: 0.1185 - val_loss: 0.0113 - val_root_mean_squared_error: 0.1062\n",
            "Epoch 39/100\n",
            "17/17 [==============================] - 0s 3ms/step - loss: 0.0133 - root_mean_squared_error: 0.1152 - val_loss: 0.0106 - val_root_mean_squared_error: 0.1031\n",
            "Epoch 40/100\n",
            "17/17 [==============================] - 0s 3ms/step - loss: 0.0125 - root_mean_squared_error: 0.1120 - val_loss: 0.0100 - val_root_mean_squared_error: 0.1001\n",
            "Epoch 41/100\n",
            "17/17 [==============================] - 0s 3ms/step - loss: 0.0118 - root_mean_squared_error: 0.1086 - val_loss: 0.0094 - val_root_mean_squared_error: 0.0970\n",
            "Epoch 42/100\n",
            "17/17 [==============================] - 0s 3ms/step - loss: 0.0111 - root_mean_squared_error: 0.1054 - val_loss: 0.0088 - val_root_mean_squared_error: 0.0939\n",
            "Epoch 43/100\n",
            "17/17 [==============================] - 0s 4ms/step - loss: 0.0104 - root_mean_squared_error: 0.1019 - val_loss: 0.0082 - val_root_mean_squared_error: 0.0907\n",
            "Epoch 44/100\n",
            "17/17 [==============================] - 0s 3ms/step - loss: 0.0097 - root_mean_squared_error: 0.0985 - val_loss: 0.0077 - val_root_mean_squared_error: 0.0876\n",
            "Epoch 45/100\n",
            "17/17 [==============================] - 0s 3ms/step - loss: 0.0090 - root_mean_squared_error: 0.0951 - val_loss: 0.0071 - val_root_mean_squared_error: 0.0844\n",
            "Epoch 46/100\n",
            "17/17 [==============================] - 0s 3ms/step - loss: 0.0084 - root_mean_squared_error: 0.0917 - val_loss: 0.0066 - val_root_mean_squared_error: 0.0813\n",
            "Epoch 47/100\n",
            "17/17 [==============================] - 0s 4ms/step - loss: 0.0078 - root_mean_squared_error: 0.0881 - val_loss: 0.0060 - val_root_mean_squared_error: 0.0772\n",
            "Epoch 48/100\n",
            "17/17 [==============================] - 0s 3ms/step - loss: 0.0062 - root_mean_squared_error: 0.0788 - val_loss: 0.0040 - val_root_mean_squared_error: 0.0634\n",
            "Epoch 49/100\n",
            "17/17 [==============================] - 0s 3ms/step - loss: 0.0046 - root_mean_squared_error: 0.0681 - val_loss: 0.0032 - val_root_mean_squared_error: 0.0562\n",
            "Epoch 50/100\n",
            "17/17 [==============================] - 0s 3ms/step - loss: 0.0037 - root_mean_squared_error: 0.0605 - val_loss: 0.0025 - val_root_mean_squared_error: 0.0500\n",
            "Epoch 51/100\n",
            "17/17 [==============================] - 0s 3ms/step - loss: 0.0029 - root_mean_squared_error: 0.0538 - val_loss: 0.0020 - val_root_mean_squared_error: 0.0447\n",
            "Epoch 52/100\n",
            "17/17 [==============================] - 0s 3ms/step - loss: 0.0023 - root_mean_squared_error: 0.0482 - val_loss: 0.0016 - val_root_mean_squared_error: 0.0401\n",
            "Epoch 53/100\n",
            "17/17 [==============================] - 0s 3ms/step - loss: 0.0019 - root_mean_squared_error: 0.0433 - val_loss: 0.0013 - val_root_mean_squared_error: 0.0364\n",
            "Epoch 54/100\n",
            "17/17 [==============================] - 0s 3ms/step - loss: 0.0016 - root_mean_squared_error: 0.0394 - val_loss: 0.0011 - val_root_mean_squared_error: 0.0334\n",
            "Epoch 55/100\n",
            "17/17 [==============================] - 0s 3ms/step - loss: 0.0013 - root_mean_squared_error: 0.0359 - val_loss: 9.5359e-04 - val_root_mean_squared_error: 0.0309\n",
            "Epoch 56/100\n",
            "17/17 [==============================] - 0s 3ms/step - loss: 0.0011 - root_mean_squared_error: 0.0332 - val_loss: 8.4469e-04 - val_root_mean_squared_error: 0.0291\n",
            "Epoch 57/100\n",
            "17/17 [==============================] - 0s 3ms/step - loss: 9.6728e-04 - root_mean_squared_error: 0.0311 - val_loss: 7.6933e-04 - val_root_mean_squared_error: 0.0277\n",
            "Epoch 58/100\n",
            "17/17 [==============================] - 0s 3ms/step - loss: 8.7308e-04 - root_mean_squared_error: 0.0295 - val_loss: 7.2027e-04 - val_root_mean_squared_error: 0.0268\n",
            "Epoch 59/100\n",
            "17/17 [==============================] - 0s 3ms/step - loss: 8.0064e-04 - root_mean_squared_error: 0.0283 - val_loss: 6.8679e-04 - val_root_mean_squared_error: 0.0262\n",
            "Epoch 60/100\n",
            "17/17 [==============================] - 0s 4ms/step - loss: 7.5355e-04 - root_mean_squared_error: 0.0275 - val_loss: 6.5971e-04 - val_root_mean_squared_error: 0.0257\n",
            "Epoch 61/100\n",
            "17/17 [==============================] - 0s 3ms/step - loss: 7.1642e-04 - root_mean_squared_error: 0.0268 - val_loss: 6.5093e-04 - val_root_mean_squared_error: 0.0255\n",
            "Epoch 62/100\n",
            "17/17 [==============================] - 0s 3ms/step - loss: 6.9423e-04 - root_mean_squared_error: 0.0263 - val_loss: 6.3703e-04 - val_root_mean_squared_error: 0.0252\n",
            "Epoch 63/100\n",
            "17/17 [==============================] - 0s 3ms/step - loss: 6.7679e-04 - root_mean_squared_error: 0.0260 - val_loss: 6.2889e-04 - val_root_mean_squared_error: 0.0251\n",
            "Epoch 64/100\n",
            "17/17 [==============================] - 0s 3ms/step - loss: 6.6569e-04 - root_mean_squared_error: 0.0258 - val_loss: 6.3093e-04 - val_root_mean_squared_error: 0.0251\n",
            "Epoch 65/100\n",
            "17/17 [==============================] - 0s 3ms/step - loss: 6.5510e-04 - root_mean_squared_error: 0.0256 - val_loss: 6.1896e-04 - val_root_mean_squared_error: 0.0249\n",
            "Epoch 66/100\n",
            "17/17 [==============================] - 0s 3ms/step - loss: 6.5176e-04 - root_mean_squared_error: 0.0255 - val_loss: 6.1859e-04 - val_root_mean_squared_error: 0.0249\n",
            "Epoch 67/100\n",
            "17/17 [==============================] - 0s 3ms/step - loss: 6.4723e-04 - root_mean_squared_error: 0.0254 - val_loss: 6.1443e-04 - val_root_mean_squared_error: 0.0248\n",
            "Epoch 68/100\n",
            "17/17 [==============================] - 0s 3ms/step - loss: 6.3926e-04 - root_mean_squared_error: 0.0253 - val_loss: 6.1043e-04 - val_root_mean_squared_error: 0.0247\n",
            "Epoch 69/100\n",
            "17/17 [==============================] - 0s 3ms/step - loss: 6.4602e-04 - root_mean_squared_error: 0.0254 - val_loss: 6.1025e-04 - val_root_mean_squared_error: 0.0247\n",
            "Epoch 70/100\n",
            "17/17 [==============================] - 0s 3ms/step - loss: 6.4086e-04 - root_mean_squared_error: 0.0253 - val_loss: 6.0820e-04 - val_root_mean_squared_error: 0.0247\n",
            "Epoch 71/100\n",
            "17/17 [==============================] - 0s 3ms/step - loss: 6.3234e-04 - root_mean_squared_error: 0.0251 - val_loss: 6.0255e-04 - val_root_mean_squared_error: 0.0245\n",
            "Epoch 72/100\n",
            "17/17 [==============================] - 0s 3ms/step - loss: 6.3177e-04 - root_mean_squared_error: 0.0251 - val_loss: 6.0426e-04 - val_root_mean_squared_error: 0.0246\n",
            "Epoch 73/100\n",
            "17/17 [==============================] - 0s 3ms/step - loss: 6.3278e-04 - root_mean_squared_error: 0.0252 - val_loss: 6.0367e-04 - val_root_mean_squared_error: 0.0246\n",
            "Epoch 74/100\n",
            "17/17 [==============================] - 0s 4ms/step - loss: 6.2814e-04 - root_mean_squared_error: 0.0251 - val_loss: 5.9730e-04 - val_root_mean_squared_error: 0.0244\n",
            "Epoch 75/100\n",
            "17/17 [==============================] - 0s 3ms/step - loss: 6.2218e-04 - root_mean_squared_error: 0.0249 - val_loss: 5.9722e-04 - val_root_mean_squared_error: 0.0244\n",
            "Epoch 76/100\n",
            "17/17 [==============================] - 0s 3ms/step - loss: 6.2184e-04 - root_mean_squared_error: 0.0249 - val_loss: 5.9721e-04 - val_root_mean_squared_error: 0.0244\n",
            "Epoch 77/100\n",
            "17/17 [==============================] - 0s 4ms/step - loss: 6.1975e-04 - root_mean_squared_error: 0.0249 - val_loss: 5.8949e-04 - val_root_mean_squared_error: 0.0243\n",
            "Epoch 78/100\n",
            "17/17 [==============================] - 0s 3ms/step - loss: 6.2030e-04 - root_mean_squared_error: 0.0249 - val_loss: 5.8925e-04 - val_root_mean_squared_error: 0.0243\n",
            "Epoch 79/100\n",
            "17/17 [==============================] - 0s 3ms/step - loss: 6.2453e-04 - root_mean_squared_error: 0.0250 - val_loss: 5.8697e-04 - val_root_mean_squared_error: 0.0242\n",
            "Epoch 80/100\n",
            "17/17 [==============================] - 0s 3ms/step - loss: 6.1719e-04 - root_mean_squared_error: 0.0248 - val_loss: 5.8663e-04 - val_root_mean_squared_error: 0.0242\n",
            "Epoch 81/100\n",
            "17/17 [==============================] - 0s 3ms/step - loss: 6.1368e-04 - root_mean_squared_error: 0.0248 - val_loss: 5.8582e-04 - val_root_mean_squared_error: 0.0242\n",
            "Epoch 82/100\n",
            "17/17 [==============================] - 0s 3ms/step - loss: 6.1086e-04 - root_mean_squared_error: 0.0247 - val_loss: 5.8073e-04 - val_root_mean_squared_error: 0.0241\n",
            "Epoch 83/100\n",
            "17/17 [==============================] - 0s 3ms/step - loss: 6.1081e-04 - root_mean_squared_error: 0.0247 - val_loss: 5.8249e-04 - val_root_mean_squared_error: 0.0241\n",
            "Epoch 84/100\n",
            "17/17 [==============================] - 0s 3ms/step - loss: 6.1429e-04 - root_mean_squared_error: 0.0248 - val_loss: 5.7941e-04 - val_root_mean_squared_error: 0.0241\n",
            "Epoch 85/100\n",
            "17/17 [==============================] - 0s 3ms/step - loss: 6.0638e-04 - root_mean_squared_error: 0.0246 - val_loss: 5.7848e-04 - val_root_mean_squared_error: 0.0241\n",
            "Epoch 86/100\n",
            "17/17 [==============================] - 0s 4ms/step - loss: 6.0494e-04 - root_mean_squared_error: 0.0246 - val_loss: 5.7914e-04 - val_root_mean_squared_error: 0.0241\n",
            "Epoch 87/100\n",
            "17/17 [==============================] - 0s 3ms/step - loss: 6.0716e-04 - root_mean_squared_error: 0.0246 - val_loss: 5.8012e-04 - val_root_mean_squared_error: 0.0241\n",
            "Epoch 88/100\n",
            "17/17 [==============================] - 0s 3ms/step - loss: 6.0875e-04 - root_mean_squared_error: 0.0247 - val_loss: 5.8023e-04 - val_root_mean_squared_error: 0.0241\n",
            "Epoch 89/100\n",
            "17/17 [==============================] - 0s 3ms/step - loss: 6.0468e-04 - root_mean_squared_error: 0.0246 - val_loss: 5.7673e-04 - val_root_mean_squared_error: 0.0240\n",
            "Epoch 90/100\n",
            "17/17 [==============================] - 0s 3ms/step - loss: 6.0193e-04 - root_mean_squared_error: 0.0245 - val_loss: 5.7627e-04 - val_root_mean_squared_error: 0.0240\n",
            "Epoch 91/100\n",
            "17/17 [==============================] - 0s 3ms/step - loss: 5.9929e-04 - root_mean_squared_error: 0.0245 - val_loss: 5.7382e-04 - val_root_mean_squared_error: 0.0240\n",
            "Epoch 92/100\n",
            "17/17 [==============================] - 0s 4ms/step - loss: 6.0472e-04 - root_mean_squared_error: 0.0246 - val_loss: 5.7327e-04 - val_root_mean_squared_error: 0.0239\n",
            "Epoch 93/100\n",
            "17/17 [==============================] - 0s 3ms/step - loss: 6.0305e-04 - root_mean_squared_error: 0.0246 - val_loss: 5.7028e-04 - val_root_mean_squared_error: 0.0239\n",
            "Epoch 94/100\n",
            "17/17 [==============================] - 0s 3ms/step - loss: 5.9505e-04 - root_mean_squared_error: 0.0244 - val_loss: 5.7006e-04 - val_root_mean_squared_error: 0.0239\n",
            "Epoch 95/100\n",
            "17/17 [==============================] - 0s 3ms/step - loss: 6.0145e-04 - root_mean_squared_error: 0.0245 - val_loss: 5.6998e-04 - val_root_mean_squared_error: 0.0239\n",
            "Epoch 96/100\n",
            "17/17 [==============================] - 0s 3ms/step - loss: 6.0327e-04 - root_mean_squared_error: 0.0246 - val_loss: 5.6703e-04 - val_root_mean_squared_error: 0.0238\n",
            "Epoch 97/100\n",
            "17/17 [==============================] - 0s 3ms/step - loss: 5.9988e-04 - root_mean_squared_error: 0.0245 - val_loss: 5.7087e-04 - val_root_mean_squared_error: 0.0239\n",
            "Epoch 98/100\n",
            "17/17 [==============================] - 0s 3ms/step - loss: 5.9293e-04 - root_mean_squared_error: 0.0244 - val_loss: 5.6545e-04 - val_root_mean_squared_error: 0.0238\n",
            "Epoch 99/100\n",
            "17/17 [==============================] - 0s 3ms/step - loss: 5.8838e-04 - root_mean_squared_error: 0.0243 - val_loss: 5.6700e-04 - val_root_mean_squared_error: 0.0238\n",
            "Epoch 100/100\n",
            "17/17 [==============================] - 0s 3ms/step - loss: 5.8980e-04 - root_mean_squared_error: 0.0243 - val_loss: 5.6556e-04 - val_root_mean_squared_error: 0.0238\n"
          ]
        },
        {
          "output_type": "execute_result",
          "data": {
            "text/plain": [
              "<keras.callbacks.History at 0x7f533680c4d0>"
            ]
          },
          "metadata": {},
          "execution_count": 314
        }
      ],
      "source": [
        "model3.fit(X_train, Y_train, validation_split=0.10, epochs=100)\n"
      ]
    },
    {
      "cell_type": "code",
      "execution_count": null,
      "metadata": {
        "colab": {
          "base_uri": "https://localhost:8080/",
          "height": 424
        },
        "id": "sNCvd9vdNBLo",
        "outputId": "a52ba105-92cd-46a8-b365-a2f4d2cd419a"
      },
      "outputs": [
        {
          "output_type": "execute_result",
          "data": {
            "text/plain": [
              "     Train Predictions   Actuals\n",
              "0             0.328813  0.304348\n",
              "1             0.214000  0.250884\n",
              "2             0.370046  0.360308\n",
              "3             0.283689  0.311629\n",
              "4             0.497579  0.531933\n",
              "..                 ...       ...\n",
              "142           0.275702  0.294570\n",
              "143           0.262587  0.238402\n",
              "144           0.596438  0.608280\n",
              "145           0.207119  0.229249\n",
              "146           0.278922  0.365717\n",
              "\n",
              "[147 rows x 2 columns]"
            ],
            "text/html": [
              "\n",
              "  <div id=\"df-ad94be32-110a-4d3e-9be9-2a7404225033\">\n",
              "    <div class=\"colab-df-container\">\n",
              "      <div>\n",
              "<style scoped>\n",
              "    .dataframe tbody tr th:only-of-type {\n",
              "        vertical-align: middle;\n",
              "    }\n",
              "\n",
              "    .dataframe tbody tr th {\n",
              "        vertical-align: top;\n",
              "    }\n",
              "\n",
              "    .dataframe thead th {\n",
              "        text-align: right;\n",
              "    }\n",
              "</style>\n",
              "<table border=\"1\" class=\"dataframe\">\n",
              "  <thead>\n",
              "    <tr style=\"text-align: right;\">\n",
              "      <th></th>\n",
              "      <th>Train Predictions</th>\n",
              "      <th>Actuals</th>\n",
              "    </tr>\n",
              "  </thead>\n",
              "  <tbody>\n",
              "    <tr>\n",
              "      <th>0</th>\n",
              "      <td>0.328813</td>\n",
              "      <td>0.304348</td>\n",
              "    </tr>\n",
              "    <tr>\n",
              "      <th>1</th>\n",
              "      <td>0.214000</td>\n",
              "      <td>0.250884</td>\n",
              "    </tr>\n",
              "    <tr>\n",
              "      <th>2</th>\n",
              "      <td>0.370046</td>\n",
              "      <td>0.360308</td>\n",
              "    </tr>\n",
              "    <tr>\n",
              "      <th>3</th>\n",
              "      <td>0.283689</td>\n",
              "      <td>0.311629</td>\n",
              "    </tr>\n",
              "    <tr>\n",
              "      <th>4</th>\n",
              "      <td>0.497579</td>\n",
              "      <td>0.531933</td>\n",
              "    </tr>\n",
              "    <tr>\n",
              "      <th>...</th>\n",
              "      <td>...</td>\n",
              "      <td>...</td>\n",
              "    </tr>\n",
              "    <tr>\n",
              "      <th>142</th>\n",
              "      <td>0.275702</td>\n",
              "      <td>0.294570</td>\n",
              "    </tr>\n",
              "    <tr>\n",
              "      <th>143</th>\n",
              "      <td>0.262587</td>\n",
              "      <td>0.238402</td>\n",
              "    </tr>\n",
              "    <tr>\n",
              "      <th>144</th>\n",
              "      <td>0.596438</td>\n",
              "      <td>0.608280</td>\n",
              "    </tr>\n",
              "    <tr>\n",
              "      <th>145</th>\n",
              "      <td>0.207119</td>\n",
              "      <td>0.229249</td>\n",
              "    </tr>\n",
              "    <tr>\n",
              "      <th>146</th>\n",
              "      <td>0.278922</td>\n",
              "      <td>0.365717</td>\n",
              "    </tr>\n",
              "  </tbody>\n",
              "</table>\n",
              "<p>147 rows × 2 columns</p>\n",
              "</div>\n",
              "      <button class=\"colab-df-convert\" onclick=\"convertToInteractive('df-ad94be32-110a-4d3e-9be9-2a7404225033')\"\n",
              "              title=\"Convert this dataframe to an interactive table.\"\n",
              "              style=\"display:none;\">\n",
              "        \n",
              "  <svg xmlns=\"http://www.w3.org/2000/svg\" height=\"24px\"viewBox=\"0 0 24 24\"\n",
              "       width=\"24px\">\n",
              "    <path d=\"M0 0h24v24H0V0z\" fill=\"none\"/>\n",
              "    <path d=\"M18.56 5.44l.94 2.06.94-2.06 2.06-.94-2.06-.94-.94-2.06-.94 2.06-2.06.94zm-11 1L8.5 8.5l.94-2.06 2.06-.94-2.06-.94L8.5 2.5l-.94 2.06-2.06.94zm10 10l.94 2.06.94-2.06 2.06-.94-2.06-.94-.94-2.06-.94 2.06-2.06.94z\"/><path d=\"M17.41 7.96l-1.37-1.37c-.4-.4-.92-.59-1.43-.59-.52 0-1.04.2-1.43.59L10.3 9.45l-7.72 7.72c-.78.78-.78 2.05 0 2.83L4 21.41c.39.39.9.59 1.41.59.51 0 1.02-.2 1.41-.59l7.78-7.78 2.81-2.81c.8-.78.8-2.07 0-2.86zM5.41 20L4 18.59l7.72-7.72 1.47 1.35L5.41 20z\"/>\n",
              "  </svg>\n",
              "      </button>\n",
              "      \n",
              "  <style>\n",
              "    .colab-df-container {\n",
              "      display:flex;\n",
              "      flex-wrap:wrap;\n",
              "      gap: 12px;\n",
              "    }\n",
              "\n",
              "    .colab-df-convert {\n",
              "      background-color: #E8F0FE;\n",
              "      border: none;\n",
              "      border-radius: 50%;\n",
              "      cursor: pointer;\n",
              "      display: none;\n",
              "      fill: #1967D2;\n",
              "      height: 32px;\n",
              "      padding: 0 0 0 0;\n",
              "      width: 32px;\n",
              "    }\n",
              "\n",
              "    .colab-df-convert:hover {\n",
              "      background-color: #E2EBFA;\n",
              "      box-shadow: 0px 1px 2px rgba(60, 64, 67, 0.3), 0px 1px 3px 1px rgba(60, 64, 67, 0.15);\n",
              "      fill: #174EA6;\n",
              "    }\n",
              "\n",
              "    [theme=dark] .colab-df-convert {\n",
              "      background-color: #3B4455;\n",
              "      fill: #D2E3FC;\n",
              "    }\n",
              "\n",
              "    [theme=dark] .colab-df-convert:hover {\n",
              "      background-color: #434B5C;\n",
              "      box-shadow: 0px 1px 3px 1px rgba(0, 0, 0, 0.15);\n",
              "      filter: drop-shadow(0px 1px 2px rgba(0, 0, 0, 0.3));\n",
              "      fill: #FFFFFF;\n",
              "    }\n",
              "  </style>\n",
              "\n",
              "      <script>\n",
              "        const buttonEl =\n",
              "          document.querySelector('#df-ad94be32-110a-4d3e-9be9-2a7404225033 button.colab-df-convert');\n",
              "        buttonEl.style.display =\n",
              "          google.colab.kernel.accessAllowed ? 'block' : 'none';\n",
              "\n",
              "        async function convertToInteractive(key) {\n",
              "          const element = document.querySelector('#df-ad94be32-110a-4d3e-9be9-2a7404225033');\n",
              "          const dataTable =\n",
              "            await google.colab.kernel.invokeFunction('convertToInteractive',\n",
              "                                                     [key], {});\n",
              "          if (!dataTable) return;\n",
              "\n",
              "          const docLinkHtml = 'Like what you see? Visit the ' +\n",
              "            '<a target=\"_blank\" href=https://colab.research.google.com/notebooks/data_table.ipynb>data table notebook</a>'\n",
              "            + ' to learn more about interactive tables.';\n",
              "          element.innerHTML = '';\n",
              "          dataTable['output_type'] = 'display_data';\n",
              "          await google.colab.output.renderOutput(dataTable, element);\n",
              "          const docLink = document.createElement('div');\n",
              "          docLink.innerHTML = docLinkHtml;\n",
              "          element.appendChild(docLink);\n",
              "        }\n",
              "      </script>\n",
              "    </div>\n",
              "  </div>\n",
              "  "
            ]
          },
          "metadata": {},
          "execution_count": 315
        }
      ],
      "source": [
        "train_predictions = model3.predict(X_test).flatten()\n",
        "train_results = pd.DataFrame(data={'Train Predictions':train_predictions, 'Actuals':Y_test})\n",
        "train_results"
      ]
    },
    {
      "cell_type": "code",
      "source": [
        "from sklearn.metrics import mean_squared_error\n",
        "import math"
      ],
      "metadata": {
        "id": "QctU_lyw287y"
      },
      "execution_count": null,
      "outputs": []
    },
    {
      "cell_type": "code",
      "source": [
        "MSE3 = mean_squared_error(Y_test, train_predictions)\n",
        "MSE3"
      ],
      "metadata": {
        "colab": {
          "base_uri": "https://localhost:8080/"
        },
        "id": "r4zhoS7S2-gy",
        "outputId": "05cd3eee-ee00-4ef6-a60e-d95baa16cb5b"
      },
      "execution_count": null,
      "outputs": [
        {
          "output_type": "execute_result",
          "data": {
            "text/plain": [
              "0.0005420365477257665"
            ]
          },
          "metadata": {},
          "execution_count": 317
        }
      ]
    },
    {
      "cell_type": "code",
      "source": [
        "RMSE3 = math.sqrt(MSE3)\n",
        "RMSE3"
      ],
      "metadata": {
        "colab": {
          "base_uri": "https://localhost:8080/"
        },
        "id": "Esb6BYkz3JKd",
        "outputId": "8b2f30f4-77a3-4587-bdb3-886fee497f94"
      },
      "execution_count": null,
      "outputs": [
        {
          "output_type": "execute_result",
          "data": {
            "text/plain": [
              "0.023281678370035235"
            ]
          },
          "metadata": {},
          "execution_count": 318
        }
      ]
    },
    {
      "cell_type": "code",
      "execution_count": null,
      "metadata": {
        "colab": {
          "base_uri": "https://localhost:8080/"
        },
        "id": "EGOH-fxHNCpX",
        "outputId": "afab0f9f-7a55-4dbe-9a27-fa7958ab87c0"
      },
      "outputs": [
        {
          "output_type": "execute_result",
          "data": {
            "text/plain": [
              "0.9905090218548631"
            ]
          },
          "metadata": {},
          "execution_count": 319
        }
      ],
      "source": [
        "from sklearn.metrics import r2_score\n",
        "Accuracy_ann = r2_score(train_results['Train Predictions'],train_results['Actuals'])\n",
        "Accuracy_ann"
      ]
    },
    {
      "cell_type": "code",
      "execution_count": null,
      "metadata": {
        "id": "kHIvlhnENEJX"
      },
      "outputs": [],
      "source": [
        "# accuracy of all the algorithm\n",
        "comparison = pd.DataFrame({\n",
        "    \"Long-Short-Term Memory\":{'Accuracy': Accuracy_lstm*100,'MSE': MSE1,'RMSE': RMSE1},\n",
        "    \"Convolutional Neural Network\":{'Accuracy': Accuracy_cnn*100,'MSE': MSE2,'RMSE': RMSE2},\n",
        "    \"Artificial Neural Network\":{'Accuracy': Accuracy_ann*100,'MSE': MSE3,'RMSE': RMSE3}\n",
        "}).T"
      ]
    },
    {
      "cell_type": "code",
      "execution_count": null,
      "metadata": {
        "colab": {
          "base_uri": "https://localhost:8080/",
          "height": 143
        },
        "id": "dcUZFHDuNJQY",
        "outputId": "227eb99e-a7a5-40de-a750-cc11013c16ed"
      },
      "outputs": [
        {
          "output_type": "execute_result",
          "data": {
            "text/plain": [
              "                               Accuracy       MSE      RMSE\n",
              "Long-Short-Term Memory        98.537913  0.028608  0.169138\n",
              "Convolutional Neural Network  99.279758  0.000407  0.020175\n",
              "Artificial Neural Network     99.050902  0.000542  0.023282"
            ],
            "text/html": [
              "\n",
              "  <div id=\"df-16428c85-1ceb-407e-91d1-5d362f000e7a\">\n",
              "    <div class=\"colab-df-container\">\n",
              "      <div>\n",
              "<style scoped>\n",
              "    .dataframe tbody tr th:only-of-type {\n",
              "        vertical-align: middle;\n",
              "    }\n",
              "\n",
              "    .dataframe tbody tr th {\n",
              "        vertical-align: top;\n",
              "    }\n",
              "\n",
              "    .dataframe thead th {\n",
              "        text-align: right;\n",
              "    }\n",
              "</style>\n",
              "<table border=\"1\" class=\"dataframe\">\n",
              "  <thead>\n",
              "    <tr style=\"text-align: right;\">\n",
              "      <th></th>\n",
              "      <th>Accuracy</th>\n",
              "      <th>MSE</th>\n",
              "      <th>RMSE</th>\n",
              "    </tr>\n",
              "  </thead>\n",
              "  <tbody>\n",
              "    <tr>\n",
              "      <th>Long-Short-Term Memory</th>\n",
              "      <td>98.537913</td>\n",
              "      <td>0.028608</td>\n",
              "      <td>0.169138</td>\n",
              "    </tr>\n",
              "    <tr>\n",
              "      <th>Convolutional Neural Network</th>\n",
              "      <td>99.279758</td>\n",
              "      <td>0.000407</td>\n",
              "      <td>0.020175</td>\n",
              "    </tr>\n",
              "    <tr>\n",
              "      <th>Artificial Neural Network</th>\n",
              "      <td>99.050902</td>\n",
              "      <td>0.000542</td>\n",
              "      <td>0.023282</td>\n",
              "    </tr>\n",
              "  </tbody>\n",
              "</table>\n",
              "</div>\n",
              "      <button class=\"colab-df-convert\" onclick=\"convertToInteractive('df-16428c85-1ceb-407e-91d1-5d362f000e7a')\"\n",
              "              title=\"Convert this dataframe to an interactive table.\"\n",
              "              style=\"display:none;\">\n",
              "        \n",
              "  <svg xmlns=\"http://www.w3.org/2000/svg\" height=\"24px\"viewBox=\"0 0 24 24\"\n",
              "       width=\"24px\">\n",
              "    <path d=\"M0 0h24v24H0V0z\" fill=\"none\"/>\n",
              "    <path d=\"M18.56 5.44l.94 2.06.94-2.06 2.06-.94-2.06-.94-.94-2.06-.94 2.06-2.06.94zm-11 1L8.5 8.5l.94-2.06 2.06-.94-2.06-.94L8.5 2.5l-.94 2.06-2.06.94zm10 10l.94 2.06.94-2.06 2.06-.94-2.06-.94-.94-2.06-.94 2.06-2.06.94z\"/><path d=\"M17.41 7.96l-1.37-1.37c-.4-.4-.92-.59-1.43-.59-.52 0-1.04.2-1.43.59L10.3 9.45l-7.72 7.72c-.78.78-.78 2.05 0 2.83L4 21.41c.39.39.9.59 1.41.59.51 0 1.02-.2 1.41-.59l7.78-7.78 2.81-2.81c.8-.78.8-2.07 0-2.86zM5.41 20L4 18.59l7.72-7.72 1.47 1.35L5.41 20z\"/>\n",
              "  </svg>\n",
              "      </button>\n",
              "      \n",
              "  <style>\n",
              "    .colab-df-container {\n",
              "      display:flex;\n",
              "      flex-wrap:wrap;\n",
              "      gap: 12px;\n",
              "    }\n",
              "\n",
              "    .colab-df-convert {\n",
              "      background-color: #E8F0FE;\n",
              "      border: none;\n",
              "      border-radius: 50%;\n",
              "      cursor: pointer;\n",
              "      display: none;\n",
              "      fill: #1967D2;\n",
              "      height: 32px;\n",
              "      padding: 0 0 0 0;\n",
              "      width: 32px;\n",
              "    }\n",
              "\n",
              "    .colab-df-convert:hover {\n",
              "      background-color: #E2EBFA;\n",
              "      box-shadow: 0px 1px 2px rgba(60, 64, 67, 0.3), 0px 1px 3px 1px rgba(60, 64, 67, 0.15);\n",
              "      fill: #174EA6;\n",
              "    }\n",
              "\n",
              "    [theme=dark] .colab-df-convert {\n",
              "      background-color: #3B4455;\n",
              "      fill: #D2E3FC;\n",
              "    }\n",
              "\n",
              "    [theme=dark] .colab-df-convert:hover {\n",
              "      background-color: #434B5C;\n",
              "      box-shadow: 0px 1px 3px 1px rgba(0, 0, 0, 0.15);\n",
              "      filter: drop-shadow(0px 1px 2px rgba(0, 0, 0, 0.3));\n",
              "      fill: #FFFFFF;\n",
              "    }\n",
              "  </style>\n",
              "\n",
              "      <script>\n",
              "        const buttonEl =\n",
              "          document.querySelector('#df-16428c85-1ceb-407e-91d1-5d362f000e7a button.colab-df-convert');\n",
              "        buttonEl.style.display =\n",
              "          google.colab.kernel.accessAllowed ? 'block' : 'none';\n",
              "\n",
              "        async function convertToInteractive(key) {\n",
              "          const element = document.querySelector('#df-16428c85-1ceb-407e-91d1-5d362f000e7a');\n",
              "          const dataTable =\n",
              "            await google.colab.kernel.invokeFunction('convertToInteractive',\n",
              "                                                     [key], {});\n",
              "          if (!dataTable) return;\n",
              "\n",
              "          const docLinkHtml = 'Like what you see? Visit the ' +\n",
              "            '<a target=\"_blank\" href=https://colab.research.google.com/notebooks/data_table.ipynb>data table notebook</a>'\n",
              "            + ' to learn more about interactive tables.';\n",
              "          element.innerHTML = '';\n",
              "          dataTable['output_type'] = 'display_data';\n",
              "          await google.colab.output.renderOutput(dataTable, element);\n",
              "          const docLink = document.createElement('div');\n",
              "          docLink.innerHTML = docLinkHtml;\n",
              "          element.appendChild(docLink);\n",
              "        }\n",
              "      </script>\n",
              "    </div>\n",
              "  </div>\n",
              "  "
            ]
          },
          "metadata": {},
          "execution_count": 321
        }
      ],
      "source": [
        "comparison"
      ]
    },
    {
      "cell_type": "code",
      "execution_count": null,
      "metadata": {
        "colab": {
          "base_uri": "https://localhost:8080/",
          "height": 985
        },
        "id": "cfRTdcHnNJnv",
        "outputId": "a40adafd-9b41-41da-af92-d5f2fe30e7dc"
      },
      "outputs": [
        {
          "output_type": "error",
          "ename": "ValueError",
          "evalue": "ignored",
          "traceback": [
            "\u001b[0;31m---------------------------------------------------------------------------\u001b[0m",
            "\u001b[0;31mValueError\u001b[0m                                Traceback (most recent call last)",
            "\u001b[0;32m<ipython-input-322-27e1c64c9722>\u001b[0m in \u001b[0;36m<module>\u001b[0;34m\u001b[0m\n\u001b[1;32m      4\u001b[0m \u001b[0mtitles\u001b[0m \u001b[0;34m=\u001b[0m \u001b[0;34m[\u001b[0m\u001b[0;34m'Accuracy'\u001b[0m\u001b[0;34m]\u001b[0m\u001b[0;34m\u001b[0m\u001b[0;34m\u001b[0m\u001b[0m\n\u001b[1;32m      5\u001b[0m \u001b[0;32mfor\u001b[0m \u001b[0mtitle\u001b[0m\u001b[0;34m,\u001b[0m\u001b[0mlabel\u001b[0m \u001b[0;32min\u001b[0m \u001b[0menumerate\u001b[0m\u001b[0;34m(\u001b[0m\u001b[0mcomparison\u001b[0m\u001b[0;34m.\u001b[0m\u001b[0mcolumns\u001b[0m\u001b[0;34m)\u001b[0m\u001b[0;34m:\u001b[0m\u001b[0;34m\u001b[0m\u001b[0;34m\u001b[0m\u001b[0m\n\u001b[0;32m----> 6\u001b[0;31m     \u001b[0mplt\u001b[0m\u001b[0;34m.\u001b[0m\u001b[0msubplot\u001b[0m\u001b[0;34m(\u001b[0m\u001b[0;36m1\u001b[0m\u001b[0;34m,\u001b[0m\u001b[0;36m1\u001b[0m\u001b[0;34m,\u001b[0m\u001b[0mtitle\u001b[0m\u001b[0;34m+\u001b[0m\u001b[0;36m1\u001b[0m\u001b[0;34m)\u001b[0m\u001b[0;34m\u001b[0m\u001b[0;34m\u001b[0m\u001b[0m\n\u001b[0m\u001b[1;32m      7\u001b[0m     \u001b[0msns\u001b[0m\u001b[0;34m.\u001b[0m\u001b[0mbarplot\u001b[0m\u001b[0;34m(\u001b[0m\u001b[0mx\u001b[0m\u001b[0;34m=\u001b[0m\u001b[0mcomparison\u001b[0m\u001b[0;34m.\u001b[0m\u001b[0mindex\u001b[0m\u001b[0;34m,\u001b[0m \u001b[0my\u001b[0m \u001b[0;34m=\u001b[0m \u001b[0mcomparison\u001b[0m\u001b[0;34m[\u001b[0m\u001b[0mlabel\u001b[0m\u001b[0;34m]\u001b[0m\u001b[0;34m,\u001b[0m \u001b[0mdata\u001b[0m\u001b[0;34m=\u001b[0m\u001b[0mcomparison\u001b[0m\u001b[0;34m)\u001b[0m\u001b[0;34m\u001b[0m\u001b[0;34m\u001b[0m\u001b[0m\n\u001b[1;32m      8\u001b[0m     \u001b[0mplt\u001b[0m\u001b[0;34m.\u001b[0m\u001b[0mxticks\u001b[0m\u001b[0;34m(\u001b[0m\u001b[0mfontsize\u001b[0m\u001b[0;34m=\u001b[0m\u001b[0;36m10\u001b[0m\u001b[0;34m)\u001b[0m\u001b[0;34m\u001b[0m\u001b[0;34m\u001b[0m\u001b[0m\n",
            "\u001b[0;32m/usr/local/lib/python3.7/dist-packages/matplotlib/pyplot.py\u001b[0m in \u001b[0;36msubplot\u001b[0;34m(*args, **kwargs)\u001b[0m\n\u001b[1;32m   1028\u001b[0m \u001b[0;34m\u001b[0m\u001b[0m\n\u001b[1;32m   1029\u001b[0m     \u001b[0mfig\u001b[0m \u001b[0;34m=\u001b[0m \u001b[0mgcf\u001b[0m\u001b[0;34m(\u001b[0m\u001b[0;34m)\u001b[0m\u001b[0;34m\u001b[0m\u001b[0;34m\u001b[0m\u001b[0m\n\u001b[0;32m-> 1030\u001b[0;31m     \u001b[0ma\u001b[0m \u001b[0;34m=\u001b[0m \u001b[0mfig\u001b[0m\u001b[0;34m.\u001b[0m\u001b[0madd_subplot\u001b[0m\u001b[0;34m(\u001b[0m\u001b[0;34m*\u001b[0m\u001b[0margs\u001b[0m\u001b[0;34m,\u001b[0m \u001b[0;34m**\u001b[0m\u001b[0mkwargs\u001b[0m\u001b[0;34m)\u001b[0m\u001b[0;34m\u001b[0m\u001b[0;34m\u001b[0m\u001b[0m\n\u001b[0m\u001b[1;32m   1031\u001b[0m     \u001b[0mbbox\u001b[0m \u001b[0;34m=\u001b[0m \u001b[0ma\u001b[0m\u001b[0;34m.\u001b[0m\u001b[0mbbox\u001b[0m\u001b[0;34m\u001b[0m\u001b[0;34m\u001b[0m\u001b[0m\n\u001b[1;32m   1032\u001b[0m     \u001b[0mbyebye\u001b[0m \u001b[0;34m=\u001b[0m \u001b[0;34m[\u001b[0m\u001b[0;34m]\u001b[0m\u001b[0;34m\u001b[0m\u001b[0;34m\u001b[0m\u001b[0m\n",
            "\u001b[0;32m/usr/local/lib/python3.7/dist-packages/matplotlib/figure.py\u001b[0m in \u001b[0;36madd_subplot\u001b[0;34m(self, *args, **kwargs)\u001b[0m\n\u001b[1;32m   1417\u001b[0m                     \u001b[0mself\u001b[0m\u001b[0;34m.\u001b[0m\u001b[0m_axstack\u001b[0m\u001b[0;34m.\u001b[0m\u001b[0mremove\u001b[0m\u001b[0;34m(\u001b[0m\u001b[0max\u001b[0m\u001b[0;34m)\u001b[0m\u001b[0;34m\u001b[0m\u001b[0;34m\u001b[0m\u001b[0m\n\u001b[1;32m   1418\u001b[0m \u001b[0;34m\u001b[0m\u001b[0m\n\u001b[0;32m-> 1419\u001b[0;31m             \u001b[0ma\u001b[0m \u001b[0;34m=\u001b[0m \u001b[0msubplot_class_factory\u001b[0m\u001b[0;34m(\u001b[0m\u001b[0mprojection_class\u001b[0m\u001b[0;34m)\u001b[0m\u001b[0;34m(\u001b[0m\u001b[0mself\u001b[0m\u001b[0;34m,\u001b[0m \u001b[0;34m*\u001b[0m\u001b[0margs\u001b[0m\u001b[0;34m,\u001b[0m \u001b[0;34m**\u001b[0m\u001b[0mkwargs\u001b[0m\u001b[0;34m)\u001b[0m\u001b[0;34m\u001b[0m\u001b[0;34m\u001b[0m\u001b[0m\n\u001b[0m\u001b[1;32m   1420\u001b[0m \u001b[0;34m\u001b[0m\u001b[0m\n\u001b[1;32m   1421\u001b[0m         \u001b[0;32mreturn\u001b[0m \u001b[0mself\u001b[0m\u001b[0;34m.\u001b[0m\u001b[0m_add_axes_internal\u001b[0m\u001b[0;34m(\u001b[0m\u001b[0mkey\u001b[0m\u001b[0;34m,\u001b[0m \u001b[0ma\u001b[0m\u001b[0;34m)\u001b[0m\u001b[0;34m\u001b[0m\u001b[0;34m\u001b[0m\u001b[0m\n",
            "\u001b[0;32m/usr/local/lib/python3.7/dist-packages/matplotlib/axes/_subplots.py\u001b[0m in \u001b[0;36m__init__\u001b[0;34m(self, fig, *args, **kwargs)\u001b[0m\n\u001b[1;32m     64\u001b[0m                 \u001b[0;32mif\u001b[0m \u001b[0mnum\u001b[0m \u001b[0;34m<\u001b[0m \u001b[0;36m1\u001b[0m \u001b[0;32mor\u001b[0m \u001b[0mnum\u001b[0m \u001b[0;34m>\u001b[0m \u001b[0mrows\u001b[0m\u001b[0;34m*\u001b[0m\u001b[0mcols\u001b[0m\u001b[0;34m:\u001b[0m\u001b[0;34m\u001b[0m\u001b[0;34m\u001b[0m\u001b[0m\n\u001b[1;32m     65\u001b[0m                     raise ValueError(\n\u001b[0;32m---> 66\u001b[0;31m                         f\"num must be 1 <= num <= {rows*cols}, not {num}\")\n\u001b[0m\u001b[1;32m     67\u001b[0m                 self._subplotspec = GridSpec(\n\u001b[1;32m     68\u001b[0m                         rows, cols, figure=self.figure)[int(num) - 1]\n",
            "\u001b[0;31mValueError\u001b[0m: num must be 1 <= num <= 1, not 2"
          ]
        },
        {
          "output_type": "display_data",
          "data": {
            "text/plain": [
              "<Figure size 1440x720 with 1 Axes>"
            ],
            "image/png": "[encoded data removed]"
          },
          "metadata": {
            "needs_background": "light"
          }
        }
      ],
      "source": [
        "#visulizing Accuuracy with graph\n",
        "fig = plt.gcf()\n",
        "fig.set_size_inches(20, 10)\n",
        "titles = ['Accuracy']\n",
        "for title,label in enumerate(comparison.columns):\n",
        "    plt.subplot(1,1,title+1)\n",
        "    sns.barplot(x=comparison.index, y = comparison[label], data=comparison)\n",
        "    plt.xticks(fontsize=10)\n",
        "    plt.title(titles[title])\n",
        "plt.show()"
      ]
    }
  ],
  "metadata": {
    "colab": {
      "provenance": [],
      "authorship_tag": "ABX9TyPXmfdvuW1hV1G/8dZVwZj7",
      "include_colab_link": true
    },
    "kernelspec": {
      "display_name": "Python 3",
      "name": "python3"
    },
    "language_info": {
      "name": "python"
    }
  },
  "nbformat": 4,
  "nbformat_minor": 0
}